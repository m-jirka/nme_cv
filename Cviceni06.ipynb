{
 "cells": [
  {
   "cell_type": "markdown",
   "id": "c12e30ea",
   "metadata": {},
   "source": [
    "# Aproximace funkcí II, třídění"
   ]
  },
  {
   "cell_type": "markdown",
   "id": "d6464ffc",
   "metadata": {},
   "source": [
    "Naimportujeme si knihovny potřebné pro následující příklady:"
   ]
  },
  {
   "cell_type": "code",
   "execution_count": 1,
   "id": "9479552b",
   "metadata": {},
   "outputs": [],
   "source": [
    "import numpy as np\n",
    "import matplotlib.pyplot as plt"
   ]
  },
  {
   "cell_type": "markdown",
   "id": "57ddfcbb",
   "metadata": {},
   "source": [
    "## Metoda nejmenších čtverců"
   ]
  },
  {
   "cell_type": "markdown",
   "id": "6da65453",
   "metadata": {},
   "source": [
    "* Aproximační funkce [neprochází](https://miro.medium.com/max/1400/1*bqEcfSxeYrHx63_pHlmnIQ.png) zadanými body (např. při aproximaci výsledků měření s nezanedbatelnými chybami)\n",
    "* Naměřené hodnoty proložíme takovou aproximační funkcí $f(x)$, která minimalizujeme funkcionál \n",
    "$$\n",
    "\\tilde{S} = \\sqrt{\\sum_{i=1}^{n}w_{i}\\left[y_{i} - f(x_{i})\\right]^{2}}\n",
    "$$\n",
    "* Aproximační funkce může být např.\n",
    " * Lineární (odvození uděláme v rámci cvičení)\n",
    " * Kvadratická [(odvození)](http://kfe.fjfi.cvut.cz/~vachal/edu/nme/cviceni/03_aprox/DOCS/teorie_metoda_nejmensich_ctvercu.pdf)\n",
    " \n",
    "* John von Neumann: \"*With four parameters I can fit an elephant, and with five I can make him wiggle his trunk.*\" [[zdroj]](http://dx.doi.org/10.1038/427297a)\n",
    "* Problémy statistické regrese - [Anscombe's quartet](https://en.wikipedia.org/wiki/Anscombe%27s_quartet)"
   ]
  },
  {
   "cell_type": "markdown",
   "id": "779dbadf",
   "metadata": {},
   "source": [
    "<div class=\"alert alert-block alert-warning\"><b>Cvičení 06.01: </b> Naprogramujte metodu nejmenších čtverců pro lineární aproximaci $f(x) = kx+q$ naměřených hodnot $x=\\{1, 2, 3, 4\\}$ a $y=\\{6, 5, 7, 10\\}$.</div>"
   ]
  },
  {
   "cell_type": "code",
   "execution_count": 2,
   "id": "cf9ee39c",
   "metadata": {},
   "outputs": [
    {
     "name": "stdout",
     "output_type": "stream",
     "text": [
      "Parametr k:  1.3999999999999995\n",
      "Parametr q:  3.5000000000000013\n"
     ]
    },
    {
     "data": {
      "text/plain": [
       "Text(0.5, 1.0, 'Aproximace metodou nejmensich ctvercu')"
      ]
     },
     "execution_count": 2,
     "metadata": {},
     "output_type": "execute_result"
    },
    {
     "data": {
      "image/png": "[encoded data removed]",
      "text/plain": [
       "<Figure size 720x360 with 1 Axes>"
      ]
     },
     "metadata": {
      "needs_background": "light"
     },
     "output_type": "display_data"
    }
   ],
   "source": [
    "#\n",
    "x = np.array([1, 2, 3, 4])\n",
    "y = np.array([6, 5, 7, 10])\n",
    "n = x.size\n",
    "\n",
    "# predpokladame linearni aproximacni polynom y = kx + q\n",
    "# minimum fukncionalu S najdeme pomoci derivace\n",
    "# to vede na reseni soustavy lin. rovnic\n",
    "# ze soustavy lin. rovnic vypocitame koeficienty k, q\n",
    "# np.sum() = suma\n",
    "A = np.array([\n",
    "    [np.sum(x*x), np.sum(x)],\n",
    "    [np.sum(x), n]\n",
    "    ])\n",
    "\n",
    "b = np.array([np.sum(x*y), np.sum(y)])\n",
    "\n",
    "# ziskame koeficienty\n",
    "reseni = np.linalg.solve(A,b)\n",
    "k = reseni[0]\n",
    "q = reseni[1]\n",
    "\n",
    "print('Parametr k: ',k)\n",
    "print('Parametr q: ',q)\n",
    "\n",
    "fig, ax = plt.subplots(figsize=(10,5))\n",
    "ax.scatter(x,y,label='Namerena data')\n",
    "ax.plot(x,k*x+q, color='C1', label='Aproximacni funkce y=kx+q')\n",
    "ax.set_xlabel('x')\n",
    "ax.set_ylabel('y')\n",
    "ax.legend()\n",
    "ax.set_title('Aproximace metodou nejmensich ctvercu')"
   ]
  },
  {
   "cell_type": "markdown",
   "id": "1a1abd5c",
   "metadata": {},
   "source": [
    "## Řazení"
   ]
  },
  {
   "cell_type": "markdown",
   "id": "0609604b",
   "metadata": {},
   "source": [
    "### Řazení vkládáním (insertion sort)"
   ]
  },
  {
   "cell_type": "markdown",
   "id": "aa68ff50",
   "metadata": {},
   "source": [
    "* Postupně procházíme prvky a každý další nesetříděný prvek zařadíme na správné místo do již setříděné posloupnosti.\n",
    "* [Animace](https://www.youtube.com/watch?v=OGzPmgsI-pQ)\n",
    "* Dokáže řadit data tak, jak přicházejí na vstup."
   ]
  },
  {
   "cell_type": "markdown",
   "id": "2e5b7fa8",
   "metadata": {},
   "source": [
    "<div class=\"alert alert-block alert-warning\"><b>Cvičení 06.02: </b>Doplňte kód pro implementaci řazení vkládáním.</div>"
   ]
  },
  {
   "cell_type": "code",
   "execution_count": 3,
   "id": "f3021bd0",
   "metadata": {},
   "outputs": [
    {
     "name": "stdout",
     "output_type": "stream",
     "text": [
      "Nesetridene pole:\n",
      "[12 11 13  5  6]\n",
      "Setridene pole:\n",
      "[ 5  6 11 12 13]\n"
     ]
    }
   ],
   "source": [
    "# kod\n",
    " \n",
    "def insertion_sort(arr):\n",
    " \n",
    "    # prochazim pole od 1 do n -1\n",
    "    for i in range(1, arr.size):\n",
    " \n",
    "        klic = arr[i]\n",
    "        j = i-1\n",
    "        while j >= 0 and arr[j] > klic : #prvky arr[0..i-1], ktere jsou vetsi nez klic\n",
    "                arr[j + 1] = arr[j] # posunu doprava\n",
    "                j -= 1 \n",
    "        arr[j + 1] = klic # novy klic\n",
    " \n",
    " \n",
    "arr = np.array([12, 11, 13, 5, 6])\n",
    "print('Nesetridene pole:')\n",
    "print(arr)\n",
    "\n",
    "insertion_sort(arr)\n",
    "\n",
    "print('Setridene pole:')\n",
    "print(arr)\n"
   ]
  },
  {
   "cell_type": "markdown",
   "id": "134aeded",
   "metadata": {},
   "source": [
    "### Řazení výběrem (selection sort)"
   ]
  },
  {
   "cell_type": "markdown",
   "id": "ed34f91a",
   "metadata": {},
   "source": [
    "* Postupně procházíme prvky a hledáme minimum z neseřazené části.\n",
    "* Nalezené minimum zařadíme na začátek seřazené části.\n",
    "* [Animace](https://www.youtube.com/watch?v=xWBP4lzkoyM)"
   ]
  },
  {
   "cell_type": "markdown",
   "id": "ddea08d8",
   "metadata": {},
   "source": [
    "<div class=\"alert alert-block alert-warning\"><b>Cvičení 06.03: </b>Doplňte kód pro implementaci řazení výběrem.</div>"
   ]
  },
  {
   "cell_type": "code",
   "execution_count": 4,
   "id": "c57c173d",
   "metadata": {},
   "outputs": [
    {
     "name": "stdout",
     "output_type": "stream",
     "text": [
      "Nesetridene pole:\n",
      "[ 8 14 11  1 32]\n",
      "Setridene pole:\n",
      "[ 1  8 11 14 32]\n"
     ]
    }
   ],
   "source": [
    "# kod\n",
    " \n",
    "def selection_sort(arr):\n",
    " \n",
    "    # prochazim pole od 0 do n - 1\n",
    "    for i in range(arr.size):\n",
    " \n",
    "        klic_index = i # index klice\n",
    " \n",
    "        for j in range (i+1,arr.size): # projdeme pole od i+1. prvku do konce\n",
    "            if arr[klic_index] > arr[j]:   # pokud je zkoumany j-ty prvek mensi\n",
    "                klic_index = j        # ulozime si jeho index\n",
    " \n",
    "        arr[klic_index], arr[i] = arr[i], arr[klic_index] # prohodime aktualni a nalezeny prvek\n",
    "        \n",
    "        # protoze jsme prosli cely zbytek pole, je ted na i-tem miste i-ty\n",
    "        # nejmensi prvek, a muzeme pokracovat tridenim zbytku pole\n",
    "\n",
    "arr1 = np.array([8, 14, 11, 1, 32])\n",
    "print('Nesetridene pole:')\n",
    "print(arr1)\n",
    "\n",
    "selection_sort(arr1)\n",
    "\n",
    "print('Setridene pole:')\n",
    "print(arr1)\n",
    "\n"
   ]
  },
  {
   "cell_type": "markdown",
   "id": "4329d618",
   "metadata": {},
   "source": [
    "### Quick sort (rychlé řazení)"
   ]
  },
  {
   "cell_type": "markdown",
   "id": "53c51911",
   "metadata": {},
   "source": [
    "* [Animace](https://www.youtube.com/watch?v=PgBzjlCcFvc)"
   ]
  },
  {
   "cell_type": "code",
   "execution_count": 7,
   "id": "63e3f28f",
   "metadata": {
    "scrolled": true
   },
   "outputs": [
    {
     "name": "stdout",
     "output_type": "stream",
     "text": [
      "Nesetridene pole:\n",
      "[8 7 2 1 0 9 6]\n",
      "Setridene pole:\n",
      "[0 1 2 6 7 8 9]\n"
     ]
    }
   ],
   "source": [
    "# kod\n",
    "\n",
    "def partition(array, low, high):\n",
    "    # pivot bude prvek na konci pole\n",
    "    pivot = array[high]\n",
    "    \n",
    "    # ukazatel na vetsi prvek\n",
    "    i = low - 1\n",
    "\n",
    "    for j in range(low, high): # prochazim celym polem\n",
    "      if array[j] <= pivot: # porovnavam kazdy prvek s pivotem\n",
    "        i = i + 1 # pokud je prvek mensi nez pivot, posuneme ukazatel i\n",
    "\n",
    "        # prohozeni prvku i a j\n",
    "        (array[i], array[j]) = (array[j], array[i])\n",
    "        \n",
    "    # prohozeni pivota s vetsim prvkem\n",
    "    (array[i + 1], array[high]) = (array[high], array[i + 1])\n",
    "\n",
    "    return i + 1\n",
    "\n",
    "\n",
    "def quick_sort(array, low, high):\n",
    "    if low < high:\n",
    "\n",
    "      # najdu pivot tak, ze prvky mensi nez pivot jsou vlevo, prvky vetsi nez pivot jsou vpravo\n",
    "      pi = partition(array, low, high)\n",
    "\n",
    "      # rekurze pro prvky nalevo od pivotu\n",
    "      quick_sort(array, low, pi - 1)\n",
    "\n",
    "      # rekurze pro provky napravo od pivotu\n",
    "      quick_sort(array, pi + 1, high)\n",
    "\n",
    "\n",
    "arr3 = np.array([8, 7, 2, 1, 0, 9, 6])\n",
    "print('Nesetridene pole:')\n",
    "print(arr3)\n",
    "\n",
    "delka = arr3.size\n",
    "\n",
    "quick_sort(arr3, 0, delka - 1)\n",
    "\n",
    "print('Setridene pole:')\n",
    "print(arr3)\n"
   ]
  },
  {
   "cell_type": "markdown",
   "id": "0ec43e8b",
   "metadata": {},
   "source": [
    "### Heapsort (řazení haldou)"
   ]
  },
  {
   "cell_type": "markdown",
   "id": "d7ae2d93",
   "metadata": {},
   "source": [
    "* [Animace](https://www.youtube.com/watch?v=MtQL_ll5KhQ)"
   ]
  },
  {
   "cell_type": "code",
   "execution_count": 6,
   "id": "f31b875d",
   "metadata": {},
   "outputs": [
    {
     "name": "stdout",
     "output_type": "stream",
     "text": [
      "Nesetridene pole:\n",
      "[12  5 13 11  6  7]\n",
      "Setridene pole:\n",
      "[ 5  6  7 11 12 13]\n"
     ]
    }
   ],
   "source": [
    "# kod\n",
    "\n",
    "# vytvoreni haldy\n",
    "def heapify(arr, n, i):\n",
    "    largest = i \n",
    "    l = 2 * i + 1\t # levy = 2*i + 1\n",
    "    r = 2 * i + 2\t # pravy = 2*i + 2\n",
    "\n",
    "\n",
    "    # je levy potomek vetsi nez rodic?\n",
    "    if l < n and arr[largest] < arr[l]:\n",
    "        largest = l\n",
    "\n",
    "    # je pravy potomek vetsi nez rodic?\n",
    "    if r < n and arr[largest] < arr[r]:\n",
    "        largest = r\n",
    "\n",
    "    # zmena rodice\n",
    "    if largest != i:\n",
    "        arr[i], arr[largest] = arr[largest], arr[i] # prohozeni\n",
    "        heapify(arr, n, largest)\n",
    "\n",
    "# razeni\n",
    "def heap_sort(arr):\n",
    "    n = len(arr)\n",
    "\n",
    "    # vytvoreni haldy\n",
    "    for i in range(n//2 - 1, -1, -1):\n",
    "        heapify(arr, n, i)\n",
    "\n",
    "    # smazani jednolitych elemetu\n",
    "    for i in range(n-1, 0, -1):\n",
    "        arr[i], arr[0] = arr[0], arr[i]  # prohozeni\n",
    "        heapify(arr, i, 0)\n",
    "\n",
    "\n",
    "\n",
    "arr4 = np.array([12, 5, 13, 11, 6, 7])\n",
    "print('Nesetridene pole:')\n",
    "print(arr4)\n",
    "\n",
    "heap_sort(arr4)\n",
    "\n",
    "print('Setridene pole:')\n",
    "print(arr4)"
   ]
  },
  {
   "cell_type": "markdown",
   "id": "dee7cae1",
   "metadata": {},
   "source": [
    "Zdroj a více informací ke třídícím algoritmům [zde](https://www.geeksforgeeks.org/sorting-algorithms/?ref=gcse)."
   ]
  }
 ],
 "metadata": {
  "kernelspec": {
   "display_name": "Python 3",
   "language": "python",
   "name": "python3"
  },
  "language_info": {
   "codemirror_mode": {
    "name": "ipython",
    "version": 3
   },
   "file_extension": ".py",
   "mimetype": "text/x-python",
   "name": "python",
   "nbconvert_exporter": "python",
   "pygments_lexer": "ipython3",
   "version": "3.8.8"
  }
 },
 "nbformat": 4,
 "nbformat_minor": 5
}
