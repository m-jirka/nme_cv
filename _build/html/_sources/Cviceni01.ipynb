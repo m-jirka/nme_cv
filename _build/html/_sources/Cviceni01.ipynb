{
 "cells": [
  {
   "cell_type": "markdown",
   "id": "d9978e48",
   "metadata": {},
   "source": [
    "# Základy práce v pythonu"
   ]
  },
  {
   "cell_type": "markdown",
   "id": "fd0e6a02",
   "metadata": {},
   "source": [
    "<div class=\"alert alert-block alert-info\"><b>Tip: </b> Tento soubor je mozne stahnout ve forme <i>*.ipynb</i> nebo jako <i>*.pdf</i>.</div>"
   ]
  },
  {
   "cell_type": "markdown",
   "id": "9b3b7853",
   "metadata": {},
   "source": [
    "<div class=\"alert alert-block alert-success\"><b>On-line interaktivni verze: </b> Pro spusteni interaktivni verze kliknete ve vrchnim menu na raketu a zvolte <i>Binder</i>, ve kterem lze JN (Jupyter Notebook) upravovat. Volba <i>Live Code</i> umozni pouze spoustet radky s kodem.</div>"
   ]
  },
  {
   "cell_type": "markdown",
   "id": "c5252b08",
   "metadata": {},
   "source": [
    "## Interaktivni Jupyter notebook"
   ]
  },
  {
   "cell_type": "markdown",
   "id": "42f2669a",
   "metadata": {},
   "source": [
    "Napiste `print('Hello, World!')` a stisknete `Shift` `+` `Enter` (nebo `Ctrl` `+` `Enter`)"
   ]
  },
  {
   "cell_type": "code",
   "execution_count": 6,
   "id": "b0648bc0",
   "metadata": {
    "scrolled": true
   },
   "outputs": [
    {
     "name": "stdout",
     "output_type": "stream",
     "text": [
      "Hello, World\n"
     ]
    }
   ],
   "source": [
    "print('Hello, World')"
   ]
  },
  {
   "cell_type": "markdown",
   "id": "b721cc85",
   "metadata": {},
   "source": [
    "Pomoci klavesy `b` vlozite dalsi radek. \n",
    "* Stisknete `b`."
   ]
  },
  {
   "cell_type": "markdown",
   "id": "6ee35abd",
   "metadata": {},
   "source": [
    "Odstraneni radku: vyberte radek a stisknete `d` `+` `d`"
   ]
  },
  {
   "cell_type": "markdown",
   "id": "90db19d6",
   "metadata": {},
   "source": [
    "Klavesou `a` vlozite novy radek nad prave vybrany. \n",
    "1. Stisknete `a`. \n",
    "2. Vyberte tento novy radek a stisknete `m`. Nyni lze do radku misto kodu zapisovat text.\n",
    "3. Zadavani ukoncite stisknutim `Shift` `+` `Enter`.\n",
    "4. Pokud chcete radek prevest na kod, stisknete `y`.\n"
   ]
  },
  {
   "cell_type": "markdown",
   "id": "b9d676c5",
   "metadata": {},
   "source": [
    "**Pro nápovědu stisknete `h`.**"
   ]
  },
  {
   "cell_type": "markdown",
   "id": "fd9b44fb",
   "metadata": {},
   "source": [
    "## Python"
   ]
  },
  {
   "cell_type": "markdown",
   "id": "da9593e8",
   "metadata": {},
   "source": [
    "Jednoradkovy komentar se zadava za znak `#`, vice radku lze zakomentovat pomoci `\"\"\"` a `\"\"\"`"
   ]
  },
  {
   "cell_type": "code",
   "execution_count": 5,
   "id": "3c111cdf",
   "metadata": {
    "scrolled": true
   },
   "outputs": [
    {
     "name": "stdout",
     "output_type": "stream",
     "text": [
      "Hello, World!\n"
     ]
    }
   ],
   "source": [
    "# toto je komentar\n",
    "\"\"\"\n",
    "Komentar\n",
    "na vice\n",
    "radku...\n",
    "\"\"\"\n",
    "print(\"Hello, World!\") \n",
    "\n"
   ]
  },
  {
   "cell_type": "markdown",
   "id": "af3c3908",
   "metadata": {},
   "source": [
    "### Jednoduche pocitani s promennymi"
   ]
  },
  {
   "cell_type": "markdown",
   "id": "0f57beed",
   "metadata": {},
   "source": [
    "Inicializace promennych `a`, `b` a zakladni aritmeticke operace a vypis vysledku:"
   ]
  },
  {
   "cell_type": "code",
   "execution_count": 49,
   "id": "fd430961",
   "metadata": {
    "scrolled": true
   },
   "outputs": [
    {
     "name": "stdout",
     "output_type": "stream",
     "text": [
      "Soucet  48.5\n",
      "Rozdil  37.5\n",
      "Soucin  236.5\n",
      "Podil  7.818181818181818\n",
      "Mocnina  963998827.5258548\n"
     ]
    }
   ],
   "source": [
    "a=43\n",
    "b=5.5\n",
    "\n",
    "soucet=a+b\n",
    "rozdil=a-b\n",
    "soucin=a*b\n",
    "podil=a/b\n",
    "mocnina=a**b\n",
    "\n",
    "# vypis\n",
    "print('Soucet ',soucet)\n",
    "print('Rozdil ',rozdil)\n",
    "print('Soucin ',soucin)\n",
    "print('Podil ',podil)\n",
    "print('Mocnina ',mocnina)\n",
    "\n"
   ]
  },
  {
   "cell_type": "markdown",
   "id": "d7072c21",
   "metadata": {},
   "source": [
    "<div class=\"alert alert-block alert-warning\"><b>Cviceni 01.01: </b> Vypoctete objem jehlanu o stranach 3 a 4 majiciho vysku 7. </div>"
   ]
  },
  {
   "cell_type": "code",
   "execution_count": 50,
   "id": "f8e7c0b1",
   "metadata": {
    "scrolled": false
   },
   "outputs": [
    {
     "name": "stdout",
     "output_type": "stream",
     "text": [
      "28.0\n"
     ]
    }
   ],
   "source": [
    "a=3\n",
    "b=4\n",
    "v=7\n",
    "S=a*b\n",
    "V=1/3*S*v\n",
    "print(V)"
   ]
  },
  {
   "cell_type": "markdown",
   "id": "6637de93",
   "metadata": {},
   "source": [
    "List a range"
   ]
  },
  {
   "cell_type": "markdown",
   "id": "c1575496",
   "metadata": {},
   "source": [
    "***"
   ]
  },
  {
   "cell_type": "markdown",
   "id": "6838de97",
   "metadata": {},
   "source": [
    "### Podminkove cykly"
   ]
  },
  {
   "cell_type": "markdown",
   "id": "b2d380fc",
   "metadata": {},
   "source": [
    "#### If ... else"
   ]
  },
  {
   "cell_type": "markdown",
   "id": "14d141a1",
   "metadata": {},
   "source": [
    "<div class=\"alert alert-block alert-danger\"><b>Pozor:</b> vnitrni casti kodu je <b>nutne</b> odsadit, obvykle se pouzivaji <b>ctyri mezery</b>.</div>"
   ]
  },
  {
   "cell_type": "markdown",
   "id": "ea6851c8",
   "metadata": {},
   "source": [
    "Za klicovymi slovy `if` a `else` musime psat `:`."
   ]
  },
  {
   "cell_type": "code",
   "execution_count": 36,
   "id": "0fb89fd4",
   "metadata": {},
   "outputs": [
    {
     "name": "stdout",
     "output_type": "stream",
     "text": [
      "musi to byt nula\n",
      "Tento text se vypise vzdy.\n"
     ]
    }
   ],
   "source": [
    "cislo = 0\n",
    "if cislo > 0:\n",
    "    print(cislo, \"je kladne.\")\n",
    "elif cislo <0:\n",
    "    print(cislo, \"je zaporne\")\n",
    "else:\n",
    "    print(\"musi to byt nula\")    \n",
    "print(\"Tento text se vypise vzdy.\")"
   ]
  },
  {
   "cell_type": "markdown",
   "id": "8c21a903",
   "metadata": {},
   "source": [
    "#### For ..."
   ]
  },
  {
   "cell_type": "code",
   "execution_count": 38,
   "id": "579b2696",
   "metadata": {},
   "outputs": [
    {
     "name": "stdout",
     "output_type": "stream",
     "text": [
      "0\n",
      "1\n",
      "2\n",
      "3\n",
      "4\n",
      "5\n",
      "6\n",
      "7\n",
      "8\n",
      "9\n"
     ]
    }
   ],
   "source": [
    "for x in range(10):\n",
    "    print(x)"
   ]
  },
  {
   "cell_type": "markdown",
   "id": "da5a3417",
   "metadata": {},
   "source": [
    "#### While..."
   ]
  },
  {
   "cell_type": "code",
   "execution_count": 46,
   "id": "73794ecf",
   "metadata": {},
   "outputs": [
    {
     "name": "stdout",
     "output_type": "stream",
     "text": [
      "0\n",
      "1\n",
      "2\n",
      "3\n",
      "4\n",
      "5\n",
      "6\n",
      "7\n",
      "8\n",
      "9\n"
     ]
    }
   ],
   "source": [
    "cislo = 0\n",
    "while cislo < 10:\n",
    "  print(cislo)\n",
    "  cislo = cislo+1 # ekvivalenti zapis je take: cislo += 1"
   ]
  },
  {
   "cell_type": "markdown",
   "id": "f01a45e2",
   "metadata": {},
   "source": [
    "break continue"
   ]
  },
  {
   "cell_type": "markdown",
   "id": "b7899479",
   "metadata": {},
   "source": [
    "***"
   ]
  },
  {
   "cell_type": "markdown",
   "id": "58020a1a",
   "metadata": {},
   "source": [
    "### List (seznam)"
   ]
  },
  {
   "cell_type": "markdown",
   "id": "984cfc40",
   "metadata": {},
   "source": [
    "Prvky seznamu vkladame do hranatych zavorek."
   ]
  },
  {
   "cell_type": "code",
   "execution_count": 18,
   "id": "04ecd800",
   "metadata": {},
   "outputs": [
    {
     "name": "stdout",
     "output_type": "stream",
     "text": [
      "0\n"
     ]
    }
   ],
   "source": [
    "seznam=[0,1,2,3]\n",
    "print(seznam[0])"
   ]
  },
  {
   "cell_type": "markdown",
   "id": "bb29dc0d",
   "metadata": {},
   "source": [
    "<div class=\"alert alert-block alert-danger\"><b>Pozor:</b> v seznamu <code>list</code> ma prvni prvek index <b>0</b>!</div>"
   ]
  },
  {
   "cell_type": "markdown",
   "id": "1df6df80",
   "metadata": {},
   "source": [
    "#### Hledani v seznamech"
   ]
  },
  {
   "cell_type": "code",
   "execution_count": 5,
   "id": "21ecb7b3",
   "metadata": {},
   "outputs": [
    {
     "name": "stdout",
     "output_type": "stream",
     "text": [
      "True\n"
     ]
    }
   ],
   "source": [
    "seznam=[0,1,2,3,\"a\",\"B\"]\n",
    "print(0 in seznam)"
   ]
  },
  {
   "cell_type": "markdown",
   "id": "7ad34af7",
   "metadata": {},
   "source": [
    "Jak najit index hledneho prvku v seznamu:"
   ]
  },
  {
   "cell_type": "code",
   "execution_count": 11,
   "id": "75b446cb",
   "metadata": {},
   "outputs": [
    {
     "name": "stdout",
     "output_type": "stream",
     "text": [
      "Prvek \"a\" ma v seznamu index:  4\n"
     ]
    }
   ],
   "source": [
    "# jaky index v seznamu ma prvek \"a\"?\n",
    "index_hledaneho_prvku = seznam.index(\"a\")\n",
    "print('Prvek \"a\" ma v seznamu index: ',index_hledaneho_prvku)"
   ]
  },
  {
   "cell_type": "markdown",
   "id": "5e858d16",
   "metadata": {},
   "source": [
    "***"
   ]
  },
  {
   "cell_type": "markdown",
   "id": "d6963427",
   "metadata": {},
   "source": [
    "### Funkce"
   ]
  },
  {
   "cell_type": "code",
   "execution_count": 24,
   "id": "8d4d1368",
   "metadata": {},
   "outputs": [
    {
     "name": "stdout",
     "output_type": "stream",
     "text": [
      "Objem jehlanu =  8.0\n"
     ]
    }
   ],
   "source": [
    "def objem_jehlanu(a,b,v):\n",
    "  return 1/3*a*b*v\n",
    "\n",
    "print(\"Objem jehlanu = \",objem_jehlanu(2,3,4))"
   ]
  },
  {
   "cell_type": "markdown",
   "id": "fd9525a1",
   "metadata": {},
   "source": [
    "***"
   ]
  },
  {
   "cell_type": "markdown",
   "id": "851a4b83",
   "metadata": {},
   "source": [
    "### Numericka knihovna numpy"
   ]
  },
  {
   "cell_type": "markdown",
   "id": "311930d4",
   "metadata": {},
   "source": [
    "Pro importovani numericke knihovny `numpy` pouzijeme prikaz:"
   ]
  },
  {
   "cell_type": "code",
   "execution_count": 25,
   "id": "2a728d2b",
   "metadata": {},
   "outputs": [],
   "source": [
    "import numpy as np"
   ]
  },
  {
   "cell_type": "markdown",
   "id": "e1228e67",
   "metadata": {},
   "source": [
    "#### Pole"
   ]
  },
  {
   "cell_type": "markdown",
   "id": "e85e1683",
   "metadata": {},
   "source": [
    "Pole (vektor, matice) lze vytvaret pomoci funkce `array`:"
   ]
  },
  {
   "cell_type": "code",
   "execution_count": 26,
   "id": "a86dcef2",
   "metadata": {},
   "outputs": [],
   "source": [
    "# vektor\n",
    "a = np.array([1, 2, 3])\n",
    "\n",
    "# matice\n",
    "matice = np.array([[1,2,3],[4,5,6],[7,8,9]])"
   ]
  },
  {
   "cell_type": "markdown",
   "id": "cbecdd4f",
   "metadata": {},
   "source": [
    "<div class=\"alert alert-block alert-danger\"><b>Pozor:</b> v poli <code>array</code> ma prvni prvek index <b>0</b>!</div>"
   ]
  },
  {
   "cell_type": "markdown",
   "id": "0f5b486f",
   "metadata": {},
   "source": [
    "Rozmery pole zjisitme pomoci funkce `shape`:"
   ]
  },
  {
   "cell_type": "code",
   "execution_count": 27,
   "id": "89ce0972",
   "metadata": {},
   "outputs": [
    {
     "name": "stdout",
     "output_type": "stream",
     "text": [
      "(3,)\n",
      "(3, 3)\n"
     ]
    }
   ],
   "source": [
    "print(a.shape)\n",
    "print(matice.shape)"
   ]
  },
  {
   "cell_type": "markdown",
   "id": "03db48e9",
   "metadata": {},
   "source": [
    "Funkce `size` vrati pocet prvku v poli:"
   ]
  },
  {
   "cell_type": "code",
   "execution_count": 29,
   "id": "6e6cf36f",
   "metadata": {},
   "outputs": [
    {
     "name": "stdout",
     "output_type": "stream",
     "text": [
      "3\n",
      "9\n"
     ]
    }
   ],
   "source": [
    "print(a.size)\n",
    "print(matice.size)"
   ]
  },
  {
   "cell_type": "markdown",
   "id": "0a9e7136",
   "metadata": {},
   "source": [
    "Pro vytvareni poli lze pouzivat generatory `arange`,`linspace`,`logspace`,`ones`,`zeros`,`eye`,`random`:"
   ]
  },
  {
   "cell_type": "code",
   "execution_count": 30,
   "id": "ef8a07f8",
   "metadata": {},
   "outputs": [
    {
     "name": "stdout",
     "output_type": "stream",
     "text": [
      "[0 1 2 3 4 5 6 7 8 9]\n"
     ]
    }
   ],
   "source": [
    "# vytvorime pole od 0 do 10 s krokem 1\n",
    "pole = np.arange(0,10,1)\n",
    "print(pole)"
   ]
  },
  {
   "cell_type": "code",
   "execution_count": 33,
   "id": "c93f7c06",
   "metadata": {},
   "outputs": [
    {
     "name": "stdout",
     "output_type": "stream",
     "text": [
      "[ 0.          0.52631579  1.05263158  1.57894737  2.10526316  2.63157895\n",
      "  3.15789474  3.68421053  4.21052632  4.73684211  5.26315789  5.78947368\n",
      "  6.31578947  6.84210526  7.36842105  7.89473684  8.42105263  8.94736842\n",
      "  9.47368421 10.        ]\n"
     ]
    }
   ],
   "source": [
    "# vytovrime pole od 0 do 10 s poctem prvku 20\n",
    "pole = np.linspace(0,10,20)\n",
    "print(pole)"
   ]
  },
  {
   "cell_type": "code",
   "execution_count": 41,
   "id": "1f9a2653",
   "metadata": {},
   "outputs": [
    {
     "name": "stdout",
     "output_type": "stream",
     "text": [
      "[1.00000000e+00 3.35981829e+00 1.12883789e+01 3.79269019e+01\n",
      " 1.27427499e+02 4.28133240e+02 1.43844989e+03 4.83293024e+03\n",
      " 1.62377674e+04 5.45559478e+04 1.83298071e+05 6.15848211e+05\n",
      " 2.06913808e+06 6.95192796e+06 2.33572147e+07 7.84759970e+07\n",
      " 2.63665090e+08 8.85866790e+08 2.97635144e+09 1.00000000e+10]\n"
     ]
    }
   ],
   "source": [
    "# vytovrime pole od 0 do 10 s poctem prvku 20 v logaritmickem meritku  (log se zakladem 10)\n",
    "pole = np.logspace(0,10,20,base=10)\n",
    "print(pole)"
   ]
  },
  {
   "cell_type": "code",
   "execution_count": 43,
   "id": "3ef71059",
   "metadata": {},
   "outputs": [
    {
     "name": "stdout",
     "output_type": "stream",
     "text": [
      "[[0. 0.]\n",
      " [0. 0.]]\n"
     ]
    }
   ],
   "source": [
    "# vytovrime matici 2x2 obsahujici same nuly\n",
    "pole = np.zeros((2,2))\n",
    "print(pole)"
   ]
  },
  {
   "cell_type": "code",
   "execution_count": 45,
   "id": "ae248187",
   "metadata": {},
   "outputs": [
    {
     "name": "stdout",
     "output_type": "stream",
     "text": [
      "[[1. 1. 1.]\n",
      " [1. 1. 1.]\n",
      " [1. 1. 1.]]\n"
     ]
    }
   ],
   "source": [
    "# vytovrime matici 3x3 obsahujici same jednicky\n",
    "pole = np.ones((3,3))\n",
    "print(pole)"
   ]
  },
  {
   "cell_type": "code",
   "execution_count": 48,
   "id": "4a4d939e",
   "metadata": {},
   "outputs": [
    {
     "name": "stdout",
     "output_type": "stream",
     "text": [
      "[[1. 0. 0.]\n",
      " [0. 1. 0.]\n",
      " [0. 0. 1.]]\n"
     ]
    }
   ],
   "source": [
    "# vytovrime matici 3x3 s jednickami na diagonale, ostatni hodnoty jsou nulove\n",
    "pole = np.eye(3)\n",
    "print(pole)"
   ]
  },
  {
   "cell_type": "markdown",
   "id": "5b230398",
   "metadata": {},
   "source": [
    "Pro pristup k prvkum matice pouzivame syntaxi `[min:max]`"
   ]
  },
  {
   "cell_type": "code",
   "execution_count": 49,
   "id": "4369da57",
   "metadata": {},
   "outputs": [
    {
     "name": "stdout",
     "output_type": "stream",
     "text": [
      "[[1 2 3]\n",
      " [4 5 6]\n",
      " [7 8 9]]\n"
     ]
    }
   ],
   "source": [
    "matice = np.array([[1,2,3],[4,5,6],[7,8,9]])\n",
    "print(matice)"
   ]
  },
  {
   "cell_type": "code",
   "execution_count": 51,
   "id": "344bf690",
   "metadata": {},
   "outputs": [
    {
     "name": "stdout",
     "output_type": "stream",
     "text": [
      "[1 2 3]\n"
     ]
    }
   ],
   "source": [
    "prvni_radek = matice[0,:]\n",
    "print(prvni_radek)"
   ]
  },
  {
   "cell_type": "code",
   "execution_count": 53,
   "id": "41e5a359",
   "metadata": {},
   "outputs": [
    {
     "name": "stdout",
     "output_type": "stream",
     "text": [
      "[1 4 7]\n"
     ]
    }
   ],
   "source": [
    "prvni_sloupec = matice[:,0]\n",
    "print(prvni_sloupec)"
   ]
  },
  {
   "cell_type": "markdown",
   "id": "911af449",
   "metadata": {},
   "source": [
    "Nasobeni matic a vektoru se provadi pomoci operatoru `dot`:"
   ]
  },
  {
   "cell_type": "code",
   "execution_count": 60,
   "id": "132db16a",
   "metadata": {},
   "outputs": [
    {
     "name": "stdout",
     "output_type": "stream",
     "text": [
      "[[1 2 3]\n",
      " [4 5 6]]\n",
      "(2, 3)\n",
      "[[1 2]\n",
      " [3 4]\n",
      " [5 6]]\n",
      "(3, 2)\n",
      "[[22 28]\n",
      " [49 64]]\n"
     ]
    }
   ],
   "source": [
    "# matice 2x3\n",
    "A = np.array([[1,2,3],[4,5,6]])\n",
    "print(A)\n",
    "print(A.shape)\n",
    "\n",
    "# matice 3x2\n",
    "B = np.array([[1,2],[3,4],[5,6]])\n",
    "print(B)\n",
    "print(B.shape)\n",
    "\n",
    "# vysledek\n",
    "C = np.dot(A,B)\n",
    "print(C)\n"
   ]
  },
  {
   "cell_type": "markdown",
   "id": "8f346e85",
   "metadata": {},
   "source": [
    "<div class=\"alert alert-block alert-danger\"><b>Pozor:</b> operace <b>C*C</b> nasobi matice po prvcich (neni to maticove nasobeni)</div>"
   ]
  },
  {
   "cell_type": "code",
   "execution_count": 64,
   "id": "3adc6bd1",
   "metadata": {
    "scrolled": true
   },
   "outputs": [
    {
     "name": "stdout",
     "output_type": "stream",
     "text": [
      "[[1856 2408]\n",
      " [4214 5468]]\n",
      "[[ 484  784]\n",
      " [2401 4096]]\n"
     ]
    }
   ],
   "source": [
    "# maticove nasobeni\n",
    "print(np.dot(C,C))\n",
    "\n",
    "# nasobeni po prvcich\n",
    "print(C*C)"
   ]
  },
  {
   "cell_type": "markdown",
   "id": "ef73e5a6",
   "metadata": {},
   "source": [
    "#### Funkce"
   ]
  },
  {
   "cell_type": "markdown",
   "id": "4bb7f2ac",
   "metadata": {},
   "source": [
    "`numpy` obsahuje casto pouzivane funkce a konstanty (napr. `sqrt`, `log`, `sin`, `abs`, `e`, `pi`, ...):"
   ]
  },
  {
   "cell_type": "code",
   "execution_count": 79,
   "id": "e2bf71fc",
   "metadata": {},
   "outputs": [
    {
     "name": "stdout",
     "output_type": "stream",
     "text": [
      "2.23606797749979\n",
      "1.6094379124341003\n",
      "-0.9589242746631385\n",
      "3\n",
      "2.718281828459045\n",
      "3.141592653589793\n"
     ]
    }
   ],
   "source": [
    "print(np.sqrt(5))\n",
    "print(np.log(5))\n",
    "print(np.sin(5))\n",
    "print(np.abs(-3))\n",
    "print(np.e)\n",
    "print(np.pi)"
   ]
  },
  {
   "cell_type": "markdown",
   "id": "ecbd8c5e",
   "metadata": {},
   "source": [
    "Zjistime soucet prvku (`sum`), maximum (`max`), minimum (`min`), prumernou hodnotou (`average`), smerodatnou odchylku (`std`) a rozptyl (`var`) u matice `A`:"
   ]
  },
  {
   "cell_type": "code",
   "execution_count": 78,
   "id": "25288dcf",
   "metadata": {},
   "outputs": [
    {
     "name": "stdout",
     "output_type": "stream",
     "text": [
      "[[1 2 3]\n",
      " [4 5 6]]\n",
      "21\n",
      "6\n",
      "1\n",
      "3.5\n",
      "1.707825127659933\n",
      "2.9166666666666665\n"
     ]
    }
   ],
   "source": [
    "print(A)\n",
    "\n",
    "soucet = np.sum(A)\n",
    "print(soucet)\n",
    "\n",
    "maximum = np.max(A)\n",
    "print(maximum)\n",
    "\n",
    "minimum = np.min(A)\n",
    "print(minimum)\n",
    "\n",
    "prumer = np.average(A)\n",
    "print(prumer)\n",
    "\n",
    "smerodatna_odchylka = np.std(A)\n",
    "print(smerodatna_odchylka)\n",
    "\n",
    "rozptyl = np.var(A)\n",
    "print(rozptyl)"
   ]
  },
  {
   "cell_type": "markdown",
   "id": "2da1cf4f",
   "metadata": {},
   "source": [
    "Index prvku v matici lze najit pomoci funkce `argwhere`:"
   ]
  },
  {
   "cell_type": "code",
   "execution_count": 91,
   "id": "3c5c3d53",
   "metadata": {},
   "outputs": [
    {
     "name": "stdout",
     "output_type": "stream",
     "text": [
      "[[0 2]]\n"
     ]
    }
   ],
   "source": [
    "index_hledaneho_prvku = np.argwhere(A == 3)\n",
    "print(index_hledaneho_prvku)"
   ]
  },
  {
   "cell_type": "code",
   "execution_count": null,
   "id": "ff5f2ca1",
   "metadata": {},
   "outputs": [],
   "source": []
  }
 ],
 "metadata": {
  "kernelspec": {
   "display_name": "Python 3",
   "language": "python",
   "name": "python3"
  },
  "language_info": {
   "codemirror_mode": {
    "name": "ipython",
    "version": 3
   },
   "file_extension": ".py",
   "mimetype": "text/x-python",
   "name": "python",
   "nbconvert_exporter": "python",
   "pygments_lexer": "ipython3",
   "version": "3.8.8"
  }
 },
 "nbformat": 4,
 "nbformat_minor": 5
}
