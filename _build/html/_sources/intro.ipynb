{
 "cells": [
  {
   "cell_type": "markdown",
   "id": "975186eb",
   "metadata": {},
   "source": [
    "# Numerické metody - cvičení\n",
    "## Letní semestr 2021/2022, KFE FJFI ČVUT v Praze\n",
    "### Rozvrh\n",
    "* Čtvrtek 7:30 - 9:10\n",
    "* Trojanova 13, učebna T-124\n",
    "* Martin JIRKA, jirkama1@fjfi.cvut.cz\n",
    "\n",
    "### Podmínky pro udělění zápočtu\n",
    "* maximálně 3 absence\n",
    "* vypracování zápočtové úlohy a její obhájení nebo průbežně plnění úkolů a jejich odevzdání do začátku následujícího cvičení (používejte Python nebo Matlab)\n",
    "\n",
    "### Používané nástroje\n",
    "Na cvičeních budeme používat Python v on-line prostředí [Jupyter notebook](https://jupyter.org/). Pro vypracování úkolů je třeba si Python prostředí nainstalovat. Pro off-line práci s Jupyter notebook na počítači je nejjednodušší používat programový balík [Anaconda](https://www.anaconda.com/) (dostupné pro Windows/Mac/Linux), který obsahuje všechny potřebné knihovny (a navíc Python editor [spyder](https://www.spyder-ide.org/) a mnoho dalšího).\n",
    "1. [Návod na instalaci](https://docs.anaconda.com/anaconda/install/)\n",
    "2. [Návod na spuštení Jupyter notebook](https://docs.anaconda.com/anaconda/user-guide/getting-started/)\n",
    "\n",
    "Materiály ke cvičením vycházejí z těchto [podkladů](http://kfe.fjfi.cvut.cz/~vachal/edu/nme/cviceni/index.html)."
   ]
  },
  {
   "cell_type": "code",
   "execution_count": null,
   "id": "0a0ab86d",
   "metadata": {},
   "outputs": [],
   "source": []
  }
 ],
 "metadata": {
  "kernelspec": {
   "display_name": "Python 3",
   "language": "python",
   "name": "python3"
  },
  "language_info": {
   "codemirror_mode": {
    "name": "ipython",
    "version": 3
   },
   "file_extension": ".py",
   "mimetype": "text/x-python",
   "name": "python",
   "nbconvert_exporter": "python",
   "pygments_lexer": "ipython3",
   "version": "3.8.8"
  }
 },
 "nbformat": 4,
 "nbformat_minor": 5
}
