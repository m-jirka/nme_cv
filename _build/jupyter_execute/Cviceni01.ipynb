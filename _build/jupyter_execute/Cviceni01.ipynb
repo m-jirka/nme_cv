{
 "cells": [
  {
   "cell_type": "markdown",
   "id": "d9978e48",
   "metadata": {},
   "source": [
    "# Základy práce v pythonu"
   ]
  },
  {
   "cell_type": "markdown",
   "id": "fd0e6a02",
   "metadata": {},
   "source": [
    "<div class=\"alert alert-block alert-info\"><b>Tip: </b> Tento soubor je mozne stahnout ve forme <i>*.ipynb</i> nebo jako <i>*.pdf</i>.</div>"
   ]
  },
  {
   "cell_type": "markdown",
   "id": "9b3b7853",
   "metadata": {},
   "source": [
    "<div class=\"alert alert-block alert-success\"><b>On-line interaktivni verze: </b> Pro otevreni interaktivni verze kliknete ve vrchnim menu na raketu a zvolte Binder. </div>"
   ]
  },
  {
   "cell_type": "markdown",
   "id": "c5252b08",
   "metadata": {},
   "source": [
    "## Interaktivni Jupyter notebook"
   ]
  },
  {
   "cell_type": "markdown",
   "id": "42f2669a",
   "metadata": {},
   "source": [
    "Napiste `print('Hello, World!')` a stisknete `Shift` `+` `Enter` (nebo `Ctrl` `+` `Enter`)"
   ]
  },
  {
   "cell_type": "code",
   "execution_count": 1,
   "id": "b0648bc0",
   "metadata": {
    "scrolled": true
   },
   "outputs": [
    {
     "name": "stdout",
     "output_type": "stream",
     "text": [
      "hello world\n"
     ]
    }
   ],
   "source": [
    "print('hello world')"
   ]
  },
  {
   "cell_type": "markdown",
   "id": "b721cc85",
   "metadata": {},
   "source": [
    "Pomoci klavesy `b` vlozite dalsi radek. \n",
    "* Stisknete `b`."
   ]
  },
  {
   "cell_type": "markdown",
   "id": "6ee35abd",
   "metadata": {},
   "source": [
    "Odstraneni radku: vyberte radek a stisknete `d` `+` `d`"
   ]
  },
  {
   "cell_type": "markdown",
   "id": "90db19d6",
   "metadata": {},
   "source": [
    "Klavesou `a` vlozite novy radek nad prave vybrany. \n",
    "1. Stisknete `a`. \n",
    "2. Vyberte tento novy radek a stisknete `m`. Nyni lze do radku misto kodu zapisovat text.\n",
    "3. Zadavani ukoncite stisknutim `Shift` `+` `Enter`.\n",
    "4. Pokud chcete radek prevest na kod, stisknete `y`.\n"
   ]
  },
  {
   "cell_type": "markdown",
   "id": "b9d676c5",
   "metadata": {},
   "source": [
    "**Pro nápovědu stisknete `h`.**"
   ]
  },
  {
   "cell_type": "markdown",
   "id": "fd9b44fb",
   "metadata": {},
   "source": [
    "## Python"
   ]
  },
  {
   "cell_type": "markdown",
   "id": "da9593e8",
   "metadata": {},
   "source": [
    "Jednoradkovy komentar se zadava za znak `#`, vice radku lze zakomentovat pomoci `\"\"\"` a `\"\"\"`"
   ]
  },
  {
   "cell_type": "code",
   "execution_count": 2,
   "id": "3c111cdf",
   "metadata": {
    "scrolled": true
   },
   "outputs": [
    {
     "data": {
      "text/plain": [
       "'V Pythonu nejsou žádné víceřádkové komentáře, které by\\nodpovídaly /* */ z C++ či Javy, nicméně často se místo nich\\npoužívají víceřádkové řetězce, které se jen nepřiřadí do\\nžádné proměnné a dále nepoužijí. Obvyklé je to zejména u\\ntzv. docstringů (viz dále).'"
      ]
     },
     "execution_count": 2,
     "metadata": {},
     "output_type": "execute_result"
    }
   ],
   "source": [
    "# toto je komentar\n",
    "\n",
    "\"\"\"V Pythonu nejsou žádné víceřádkové komentáře, které by\n",
    "odpovídaly /* */ z C++ či Javy, nicméně často se místo nich\n",
    "používají víceřádkové řetězce, které se jen nepřiřadí do\n",
    "žádné proměnné a dále nepoužijí. Obvyklé je to zejména u\n",
    "tzv. docstringů (viz dále).\"\"\"\n",
    "\n"
   ]
  },
  {
   "cell_type": "markdown",
   "id": "af3c3908",
   "metadata": {},
   "source": [
    "### Jednoduche pocitani s promennymi"
   ]
  },
  {
   "cell_type": "markdown",
   "id": "0f57beed",
   "metadata": {},
   "source": [
    "Inicializace promennych `a`, `b` a zakladni aritmeticke operace a vypis vysledku:"
   ]
  },
  {
   "cell_type": "code",
   "execution_count": 3,
   "id": "fd430961",
   "metadata": {
    "scrolled": true
   },
   "outputs": [
    {
     "name": "stdout",
     "output_type": "stream",
     "text": [
      "Soucet  48.5\n",
      "Rozdil  37.5\n",
      "Soucin  236.5\n",
      "Podil  7.818181818181818\n",
      "Mocnina  963998827.5258548\n"
     ]
    }
   ],
   "source": [
    "a=43\n",
    "b=5.5\n",
    "\n",
    "soucet=a+b\n",
    "rozdil=a-b\n",
    "soucin=a*b\n",
    "podil=a/b\n",
    "mocnina=a**b\n",
    "\n",
    "# vypis\n",
    "print('Soucet ',soucet)\n",
    "print('Rozdil ',rozdil)\n",
    "print('Soucin ',soucin)\n",
    "print('Podil ',podil)\n",
    "print('Mocnina ',mocnina)\n",
    "\n"
   ]
  },
  {
   "cell_type": "markdown",
   "id": "d7072c21",
   "metadata": {},
   "source": [
    "<div class=\"alert alert-block alert-warning\"><b>Cviceni 01.01: </b> Vypoctete objem jehlanu o stranach 3 a 4 majiciho vysku 7. </div>"
   ]
  },
  {
   "cell_type": "code",
   "execution_count": 4,
   "id": "f8e7c0b1",
   "metadata": {
    "scrolled": false
   },
   "outputs": [
    {
     "name": "stdout",
     "output_type": "stream",
     "text": [
      "28.0\n"
     ]
    }
   ],
   "source": [
    "a=3\n",
    "b=4\n",
    "v=7\n",
    "S=a*b\n",
    "V=1/3*S*v\n",
    "print(V)"
   ]
  },
  {
   "cell_type": "markdown",
   "id": "6637de93",
   "metadata": {},
   "source": [
    "List a range"
   ]
  },
  {
   "cell_type": "markdown",
   "id": "c1575496",
   "metadata": {},
   "source": [
    "***"
   ]
  },
  {
   "cell_type": "markdown",
   "id": "6838de97",
   "metadata": {},
   "source": [
    "### Podminkove cykly"
   ]
  },
  {
   "cell_type": "markdown",
   "id": "b2d380fc",
   "metadata": {},
   "source": [
    "#### If ... else"
   ]
  },
  {
   "cell_type": "markdown",
   "id": "14d141a1",
   "metadata": {},
   "source": [
    "<div class=\"alert alert-block alert-danger\"><b>Pozor:</b> vnitrni casti kodu je <b>nutne</b> odsadit, obvykle se pouzivaji <b>ctyri mezery</b>.</div>"
   ]
  },
  {
   "cell_type": "markdown",
   "id": "ea6851c8",
   "metadata": {},
   "source": [
    "Za klicovymi slovy `if` a `else` musime psat `:`."
   ]
  },
  {
   "cell_type": "code",
   "execution_count": 5,
   "id": "0fb89fd4",
   "metadata": {},
   "outputs": [
    {
     "name": "stdout",
     "output_type": "stream",
     "text": [
      "musi to byt nula\n",
      "Tento text se vypise vzdy.\n"
     ]
    }
   ],
   "source": [
    "cislo = 0\n",
    "if cislo > 0:\n",
    "    print(cislo, \"je kladne.\")\n",
    "elif cislo <0:\n",
    "    print(cislo, \"je zaporne\")\n",
    "else:\n",
    "    print(\"musi to byt nula\")    \n",
    "print(\"Tento text se vypise vzdy.\")"
   ]
  },
  {
   "cell_type": "markdown",
   "id": "8c21a903",
   "metadata": {},
   "source": [
    "#### For ..."
   ]
  },
  {
   "cell_type": "code",
   "execution_count": 6,
   "id": "579b2696",
   "metadata": {},
   "outputs": [
    {
     "name": "stdout",
     "output_type": "stream",
     "text": [
      "0\n",
      "1\n",
      "2\n",
      "3\n",
      "4\n",
      "5\n",
      "6\n",
      "7\n",
      "8\n",
      "9\n"
     ]
    }
   ],
   "source": [
    "for x in range(10):\n",
    "    print(x)"
   ]
  },
  {
   "cell_type": "markdown",
   "id": "da5a3417",
   "metadata": {},
   "source": [
    "#### While..."
   ]
  },
  {
   "cell_type": "code",
   "execution_count": 7,
   "id": "73794ecf",
   "metadata": {},
   "outputs": [
    {
     "name": "stdout",
     "output_type": "stream",
     "text": [
      "0\n",
      "1\n",
      "2\n",
      "3\n",
      "4\n",
      "5\n",
      "6\n",
      "7\n",
      "8\n",
      "9\n"
     ]
    }
   ],
   "source": [
    "cislo = 0\n",
    "while cislo < 10:\n",
    "  print(cislo)\n",
    "  cislo = cislo+1 # ekvivalenti zapis je take: cislo += 1"
   ]
  },
  {
   "cell_type": "markdown",
   "id": "f01a45e2",
   "metadata": {},
   "source": [
    "break continue"
   ]
  },
  {
   "cell_type": "markdown",
   "id": "b7899479",
   "metadata": {},
   "source": [
    "***"
   ]
  },
  {
   "cell_type": "markdown",
   "id": "58020a1a",
   "metadata": {},
   "source": [
    "### List (seznam)"
   ]
  },
  {
   "cell_type": "markdown",
   "id": "984cfc40",
   "metadata": {},
   "source": [
    "Prvky seznamu vkladame do hranatych zavorek."
   ]
  },
  {
   "cell_type": "code",
   "execution_count": 8,
   "id": "04ecd800",
   "metadata": {},
   "outputs": [
    {
     "name": "stdout",
     "output_type": "stream",
     "text": [
      "0\n"
     ]
    }
   ],
   "source": [
    "seznam=[0,1,2,3]\n",
    "print(seznam[0])"
   ]
  },
  {
   "cell_type": "markdown",
   "id": "bb29dc0d",
   "metadata": {},
   "source": [
    "<div class=\"alert alert-block alert-danger\"><b>Pozor:</b> v seznamu <code>list</code> ma prvni prvek index <b>0</b>!</div>"
   ]
  },
  {
   "cell_type": "markdown",
   "id": "1df6df80",
   "metadata": {},
   "source": [
    "#### Hledani v seznamech"
   ]
  },
  {
   "cell_type": "code",
   "execution_count": 9,
   "id": "21ecb7b3",
   "metadata": {},
   "outputs": [
    {
     "name": "stdout",
     "output_type": "stream",
     "text": [
      "True\n"
     ]
    }
   ],
   "source": [
    "seznam=[0,1,2,3,\"a\",\"B\"]\n",
    "print(0 in seznam)"
   ]
  },
  {
   "cell_type": "markdown",
   "id": "7ad34af7",
   "metadata": {},
   "source": [
    "Jak najit index hledneho prvku v seznamu:"
   ]
  },
  {
   "cell_type": "code",
   "execution_count": 10,
   "id": "75b446cb",
   "metadata": {},
   "outputs": [
    {
     "name": "stdout",
     "output_type": "stream",
     "text": [
      "Prvek \"a\" ma v seznamu index:  4\n"
     ]
    }
   ],
   "source": [
    "# jaky index v seznamu ma prvek \"a\"?\n",
    "index_hledaneho_prvku = seznam.index(\"a\")\n",
    "print('Prvek \"a\" ma v seznamu index: ',index_hledaneho_prvku)"
   ]
  },
  {
   "cell_type": "markdown",
   "id": "fc9c8aac",
   "metadata": {},
   "source": [
    "numpy, pyplot"
   ]
  },
  {
   "cell_type": "markdown",
   "id": "5e858d16",
   "metadata": {},
   "source": [
    "***"
   ]
  },
  {
   "cell_type": "markdown",
   "id": "d6963427",
   "metadata": {},
   "source": [
    "### Funkce"
   ]
  },
  {
   "cell_type": "code",
   "execution_count": 11,
   "id": "8d4d1368",
   "metadata": {},
   "outputs": [
    {
     "name": "stdout",
     "output_type": "stream",
     "text": [
      "Objem jehlanu =  8.0\n"
     ]
    }
   ],
   "source": [
    "def objem_jehlanu(a,b,v):\n",
    "  return 1/3*a*b*v\n",
    "\n",
    "print(\"Objem jehlanu = \",objem_jehlanu(2,3,4))"
   ]
  },
  {
   "cell_type": "code",
   "execution_count": null,
   "id": "1707ae18",
   "metadata": {},
   "outputs": [],
   "source": []
  }
 ],
 "metadata": {
  "kernelspec": {
   "display_name": "Python 3",
   "language": "python",
   "name": "python3"
  },
  "language_info": {
   "codemirror_mode": {
    "name": "ipython",
    "version": 3
   },
   "file_extension": ".py",
   "mimetype": "text/x-python",
   "name": "python",
   "nbconvert_exporter": "python",
   "pygments_lexer": "ipython3",
   "version": "3.8.8"
  }
 },
 "nbformat": 4,
 "nbformat_minor": 5
}