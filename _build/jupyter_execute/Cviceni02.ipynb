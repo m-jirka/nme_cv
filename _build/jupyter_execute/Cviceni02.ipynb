{
 "cells": [
  {
   "cell_type": "markdown",
   "id": "a6be27fa",
   "metadata": {},
   "source": [
    "# Chyby a nestabilita"
   ]
  },
  {
   "cell_type": "markdown",
   "id": "bcbe106e",
   "metadata": {},
   "source": [
    "Naimportujeme si knihovny potřebné pro následující příklady:"
   ]
  },
  {
   "cell_type": "code",
   "execution_count": 1,
   "id": "1dbe3ae2",
   "metadata": {},
   "outputs": [],
   "source": [
    "import numpy as np\n",
    "import matplotlib.pyplot as plt"
   ]
  },
  {
   "cell_type": "markdown",
   "id": "ca57b22f",
   "metadata": {},
   "source": [
    "## Chyby - nepřesnosti při řešení numerických úloh\n",
    "Zdroje chyb:\n",
    "1. Chyby vstupních dat (např. chyby měření, chyby modelu reality)\n",
    "2. Zaokrouhlovací chyby (roundoff errors) - v důsledku zaokrouhlování při výpočtech s čísly o konečné délce\n",
    "3. Chyby metody (truncation errors) - v důsledku převedení matematické úlohy na numerickou"
   ]
  },
  {
   "cell_type": "markdown",
   "id": "165ca40b",
   "metadata": {},
   "source": [
    "### Relativní a absolutní chyba"
   ]
  },
  {
   "cell_type": "markdown",
   "id": "a354e46c",
   "metadata": {},
   "source": [
    "* **absolutní chyba** $= \\|$přesná hodnota - přibližná hodnota$\\|$\n",
    " * $A(x) = \\| x  -\\tilde{x}\\|$\n",
    "* **relativní chyba** $=$ absolutní chyba / $\\|$přesná hodnota$\\|$\n",
    " * $R(x) = \\dfrac{A(x)}{\\| x\\|}$"
   ]
  },
  {
   "cell_type": "markdown",
   "id": "5d8142c9",
   "metadata": {},
   "source": [
    "### Zaokrouhlovací chyby"
   ]
  },
  {
   "cell_type": "markdown",
   "id": "4fa66890",
   "metadata": {},
   "source": [
    "#### Reprezentace reálných čísel v počítači\n",
    "\n",
    "* floating point (pohyblivá desetinná čárka): $\\pm 1.23456789\\times10^{\\pm21}$ (znaménko $\\pm$; mantisa 1.23456789; exponent $\\pm21$)\n",
    "* délka exponentu určuje rozsah\n",
    "* délka manitsy určuje přesnost\n",
    " * v počítači je mezi 1 a 2 je konečný počet čísel 1, 1+$\\epsilon$, 1+$2\\epsilon$,...,2-$\\epsilon$\n",
    " * čím menší $\\epsilon$, tím menší jsou chyby v zaokrouhlování\n",
    "* chyby při arimetických výpočtech v počítačích mohou mít své důsledky [[1](https://en.wikipedia.org/wiki/Ariane_5#Notable_launches), [2](https://en.wikipedia.org/wiki/Round-off_error#Real_world_example:_Patriot_missile_failure_due_to_magnification_of_roundoff_error)]\n"
   ]
  },
  {
   "cell_type": "markdown",
   "id": "1384d5da",
   "metadata": {},
   "source": [
    "<div class=\"alert alert-block alert-warning\"><b>Cvičení 02.01: </b> Odhadněte $\\epsilon$ a odhad porovnejte se skutečnou hodnotou.</div>"
   ]
  },
  {
   "cell_type": "markdown",
   "id": "422c36b5",
   "metadata": {},
   "source": [
    "Budeme postupovat tak, že počáteční odhad (libovolně vysoký) budeme postupně dělit dvěma tak dlouho, dokud po přičtení k jedničce dostaneme číslo větší než jedna."
   ]
  },
  {
   "cell_type": "code",
   "execution_count": 2,
   "id": "38680dcb",
   "metadata": {
    "scrolled": true
   },
   "outputs": [],
   "source": [
    "# kod\n"
   ]
  },
  {
   "cell_type": "markdown",
   "id": "424caa41",
   "metadata": {},
   "source": [
    "#### Šíření chyb ve výpočtech"
   ]
  },
  {
   "cell_type": "markdown",
   "id": "85ab0b86",
   "metadata": {},
   "source": [
    "Motivace pro numerické postupy: vyhnout se odečítání dvou přibližně stejně velkých čísel:"
   ]
  },
  {
   "cell_type": "code",
   "execution_count": 3,
   "id": "d10aa984",
   "metadata": {},
   "outputs": [
    {
     "name": "stdout",
     "output_type": "stream",
     "text": [
      "0.055000000000000604\n"
     ]
    }
   ],
   "source": [
    "# kod\n",
    "a = 4.9\n",
    "b = 4.845\n",
    "c = a - b\n",
    "print(c)"
   ]
  },
  {
   "cell_type": "markdown",
   "id": "0102a4a3",
   "metadata": {},
   "source": [
    "* V počítači nemusí platit $(a + 1) - 1 = a$"
   ]
  },
  {
   "cell_type": "markdown",
   "id": "af616318",
   "metadata": {},
   "source": [
    "<div class=\"alert alert-block alert-warning\"><b>Cvičení 02.02: </b>Vypočítejte 1 + 1/3 - 1/3. Ověřte výsledek i pro případ, že byste výpočet provedli 100x.</div>"
   ]
  },
  {
   "cell_type": "code",
   "execution_count": 4,
   "id": "1726c2b2",
   "metadata": {},
   "outputs": [],
   "source": [
    "# kod\n"
   ]
  },
  {
   "cell_type": "markdown",
   "id": "df04ef55",
   "metadata": {},
   "source": [
    " * V počítači nemusí platit asociativnost sčítání $(a+b)+c = a+(b+c)$."
   ]
  },
  {
   "cell_type": "markdown",
   "id": "4b38c4bd",
   "metadata": {},
   "source": [
    "<div class=\"alert alert-block alert-warning\"><b>Cvičení 02.03: </b>Mějme řadu definovanou jako $x_{n} = \\dfrac{1}{n^{-1.1}}$. Sečtěte prvních 30 členů v jednom směru a v druhém směru.</div>"
   ]
  },
  {
   "cell_type": "code",
   "execution_count": 5,
   "id": "2368fd7d",
   "metadata": {},
   "outputs": [],
   "source": [
    "# kod\n"
   ]
  },
  {
   "cell_type": "markdown",
   "id": "0f4e4ce7",
   "metadata": {},
   "source": [
    "### Chyba metody"
   ]
  },
  {
   "cell_type": "markdown",
   "id": "ddafcfe5",
   "metadata": {},
   "source": [
    "* Při výpočtech nahrazujeme nekonečně krátký krok $dx$ krokem $h$, který má konečnou délku.\n",
    "\n",
    "#### Taylorův rozvoj\n",
    "* $f(x+h)=\\sum_{n}\\dfrac{h^{n}f^{(n)}(x)}{n!}$\n",
    "* Řád metody $\\alpha$: chyba veličiny úměrná $h^{\\alpha}$\n",
    "\n",
    "##### Metoda prvního řádu (dopředná diference)\n",
    "   * $f(x+h)=f(x)+hf'(x) + \\mathcal{O}(h^{2})\\rightarrow f'(x)=\\dfrac{f(x+h)-f(x)}{h} + \\dfrac{\\mathcal{O}(h^{2})}{h}\\rightarrow f'(x)=\\dfrac{f(x+h)-f(x)}{h} +\\mathcal{O}(h)$\n",
    "   * získám aproximaci derivace $f'(x)\\approx\\dfrac{f(x+h)-f(h)}{h}$, přičemž zanedbám $\\mathcal{O}(h)$\n",
    "\n",
    "##### Metoda druhého řádu (centrální diference)\n",
    "   * $f(x+h)=f(x)+hf'(x) + \\dfrac{h^{2}}{2}f''(x)+\\mathcal{O}(h^{3})$\n",
    "   * $f(x-h)=f(x)-hf'(x) + \\dfrac{h^{2}}{2}f''(x)+\\mathcal{O}(h^{3})$\n",
    "   * odečtením těchto dvou rovnic získám aproximaci derivace $f'(x)\\approx\\dfrac{f(x+h)-f(x-h)}{2h}$, přičemž zanedbám $\\mathcal{O}(h^{2})$"
   ]
  },
  {
   "cell_type": "markdown",
   "id": "726f26b1",
   "metadata": {},
   "source": [
    "<div class=\"alert alert-block alert-warning\"><b>Cvičení 02.04:</b> Spočtěte numericky derivaci funkce $\\sin(x)$ v bodě $x=\\pi/6$ pomocí dopředné a centrální diference pro velikost kroku $h\\in(\\epsilon,\\pi/6\\rangle $. Zobrazte výsledek a velikost relativní chyby v závislosti na $h$.</div>"
   ]
  },
  {
   "cell_type": "markdown",
   "id": "87e3f320",
   "metadata": {},
   "source": [
    "Měli bychom dojít k výsledku $\\sqrt{3}/2\\approx 0.866$, což mohu ověřit zadáním `derivative of sin(x) at x=pi/6` do [WolframAlpha](https://www.wolframalpha.com)."
   ]
  },
  {
   "cell_type": "code",
   "execution_count": 6,
   "id": "f7ad96da",
   "metadata": {
    "scrolled": false
   },
   "outputs": [
    {
     "data": {
      "image/png": "[encoded data removed]",
      "text/plain": [
       "<Figure size 720x360 with 2 Axes>"
      ]
     },
     "metadata": {
      "filenames": {
       "image/png": "/home/mjirka/Documents/git/nme_cv/_build/jupyter_execute/Cviceni02_24_0.png"
      },
      "needs_background": "light"
     },
     "output_type": "display_data"
    }
   ],
   "source": [
    "# kod\n",
    "\n",
    "import numpy as np\n",
    "import matplotlib.pyplot as plt\n",
    "\n",
    "def f(x):\n",
    "    return np.sin(x)\n",
    "\n",
    "def df(x):\n",
    "    return np.cos(x)\n",
    "\n",
    "#######################################\n",
    "# vlozte funkci pocitajici doprednou diferenci:\n",
    "#######################################\n",
    "def num1_df(x,h):\n",
    "    return 0\n",
    "#######################################\n",
    "\n",
    "\n",
    "#######################################\n",
    "# vlozte funkci pocitajici centralni diferenci:\n",
    "#######################################\n",
    "def num2_df(x,h):\n",
    "    return 0\n",
    "#######################################\n",
    "\n",
    "x = np.pi/6\n",
    "h = x  # Pocatecni hodnota h\n",
    "\n",
    "der_a = df(x) # Hodnota derivace analyticky\n",
    "der_1 = num1_df(x,h) # Derivace metodou prvniho radu\n",
    "der_2 = num2_df(x,h) # Derivace metodou druheho radu\n",
    "krok  = h # Seznam pouzitych velikosti kroku\n",
    "\n",
    "# Hledame hodnoty derivace v bode x v zavislosti na kroku h\n",
    "while h > np.finfo(float).eps:\n",
    "    der_a = np.append(der_a, df(x))\n",
    "    der_1 = np.append(der_1, num1_df(x,h))\n",
    "    der_2 = np.append(der_2 ,num2_df(x,h))\n",
    "    krok  = np.append(krok, h)\n",
    "    h = 0.9 * h\n",
    "\n",
    "fig, ax = plt.subplots(1,2,figsize=(10,5))\n",
    "ax[0].plot(krok,der_a,linewidth=2,label='Ananlyticka hodnota')\n",
    "ax[0].plot(krok,der_1,linewidth=2,label='Metoda prvniho radu')\n",
    "ax[0].plot(krok,der_2,linewidth=2,label='Metoda druheho radu')\n",
    "ax[0].set_xlabel('h')\n",
    "ax[0].set_ylabel(r'$df(x)/dx$ pro $x=\\pi/6$')\n",
    "ax[0].set_xlim((0,0.5))\n",
    "#ax[0].set_xscale('log')\n",
    "ax[0].legend()\n",
    "\n",
    "ax[1].plot(krok, np.abs((der_1-der_a)/der_a),c='C1',linewidth=2,label='Chyba metody 1. radu')\n",
    "ax[1].plot(krok, np.abs((der_2-der_a)/der_a),color='C2',linewidth=2,label='Chyba metody 2. radu')\n",
    "ax[1].set_xlabel('h')\n",
    "ax[1].set_ylabel('Relativni chyba')\n",
    "ax[1].set_xlim((0,0.5))\n",
    "ax[1].legend()\n",
    "\n",
    "fig.tight_layout()"
   ]
  },
  {
   "cell_type": "markdown",
   "id": "73b31aff",
   "metadata": {},
   "source": [
    "## Numerická stabilita"
   ]
  },
  {
   "cell_type": "markdown",
   "id": "d9fa2796",
   "metadata": {},
   "source": [
    "<div class=\"alert alert-block alert-warning\"><b>Cvičení 02.05:</b> Pomocí a) Eulerovy a b) dvoukrokové metody vypočítejte časový vývoj rychlosti meteoritu, který je v atmosféře exponenciálně brzděn, přičemž $v(0)=1$.</div>"
   ]
  },
  {
   "cell_type": "markdown",
   "id": "3d3e1659",
   "metadata": {},
   "source": [
    "Rychlost meteoritu lze popsat diferenciální rovnicí $\\dfrac{dv}{dt}=-v(t)$. Jejím řešením je $v(t)=K\\exp(-t)$. Konstatu $K$ najdeme pomocí počáteční podmínky $v(0)=1$, a tedy $K=1$.\n"
   ]
  },
  {
   "cell_type": "markdown",
   "id": "85280a32",
   "metadata": {},
   "source": [
    "* **a) Eulerova metoda (dopředná diference)**\n",
    " * derivaci nahradíme konečnou diferencí: $\\dfrac{v(t+dt)-v(t)}{dt}=-v(t)$\n",
    " * odtud získám rychlost $v$ v čase $t+dt$: $v(d+dt)=-v(t)dt+v(t)$ "
   ]
  },
  {
   "cell_type": "code",
   "execution_count": 7,
   "id": "91509da7",
   "metadata": {},
   "outputs": [
    {
     "data": {
      "text/plain": [
       "<matplotlib.legend.Legend at 0x7f8481200880>"
      ]
     },
     "execution_count": 7,
     "metadata": {},
     "output_type": "execute_result"
    },
    {
     "data": {
      "image/png": "[encoded data removed]",
      "text/plain": [
       "<Figure size 720x360 with 1 Axes>"
      ]
     },
     "metadata": {
      "filenames": {
       "image/png": "/home/mjirka/Documents/git/nme_cv/_build/jupyter_execute/Cviceni02_29_1.png"
      },
      "needs_background": "light"
     },
     "output_type": "display_data"
    }
   ],
   "source": [
    "T = 10\n",
    "N = 30\n",
    "dt = T/N\n",
    "\n",
    "t = np.empty(N)\n",
    "v = np.empty(N)\n",
    "v_exact = np.empty(N)\n",
    "\n",
    "# pocatecni podminky\n",
    "t[0] = 0\n",
    "v[0] = 1\n",
    "\n",
    "# presne reseni\n",
    "v_exact[0] = np.exp(-t[0])\n",
    "\n",
    "#% diferencni schema v(t+dt)-v(t)/dt = -v(t)\n",
    "for i in range (1,N):\n",
    "#######################################\n",
    "    # vlozte vypocet t, v, v_exact:\n",
    "#######################################\n",
    "    t[i]=0\n",
    "    v[i]=0    \n",
    "    v_exact[i]=0\n",
    "#######################################\n",
    "    \n",
    "fig, ax = plt.subplots(figsize=(10,5))    \n",
    "ax.plot(t,v_exact,label='Analyticke reseni',linewidth=2)\n",
    "ax.scatter(t,v,label='Eulerova metoda',color='C1')\n",
    "ax.set_xlabel('t')\n",
    "ax.set_ylabel('v')\n",
    "ax.legend()"
   ]
  },
  {
   "cell_type": "markdown",
   "id": "654abd43",
   "metadata": {},
   "source": [
    "* **b) Dvoukroková metoda (centrální diference)**\n",
    " * derivaci nahradíme centrální diferencí s dvojnásobným krokem: $\\dfrac{v(t+dt)-v(t-dt)}{2dt}=-v(t)$\n",
    " * odtud získám rychlost $v$ v čase $t+dt$: $v(d+dt)=-2v(t)dt+v(t-dt)$ "
   ]
  },
  {
   "cell_type": "code",
   "execution_count": 8,
   "id": "3b44a50a",
   "metadata": {},
   "outputs": [
    {
     "data": {
      "text/plain": [
       "<matplotlib.legend.Legend at 0x7f848117e370>"
      ]
     },
     "execution_count": 8,
     "metadata": {},
     "output_type": "execute_result"
    },
    {
     "data": {
      "image/png": "[encoded data removed]",
      "text/plain": [
       "<Figure size 720x360 with 1 Axes>"
      ]
     },
     "metadata": {
      "filenames": {
       "image/png": "/home/mjirka/Documents/git/nme_cv/_build/jupyter_execute/Cviceni02_31_1.png"
      },
      "needs_background": "light"
     },
     "output_type": "display_data"
    }
   ],
   "source": [
    "T = 10\n",
    "N = 30\n",
    "dt = T/N\n",
    "\n",
    "t = np.empty(N)\n",
    "v = np.empty(N)\n",
    "v_exact = np.empty(N)\n",
    "\n",
    "# pocatecni podminky\n",
    "t[0] = 0\n",
    "v[0] = 1\n",
    "\n",
    "# druhy casovy krok\n",
    "t[1] =t[0] + dt\n",
    "\n",
    "# presne reseni v prvnich dvou bodech\n",
    "v_exact[0] = np.exp(-t[0])\n",
    "v_exact[1] = np.exp(-t[1])\n",
    "\n",
    "# schema je tribodove, takze poterbujeme jeste jednu hodnotu v(2)\n",
    "v[1] = v_exact[1]\n",
    "\n",
    "# diferencni schema v(t+dt)-v(t-dt)/2dt = -v(t)\n",
    "for i in range (2,N):\n",
    "#######################################\n",
    "    # vlozte vypocet t, v, v_exact:\n",
    "#######################################\n",
    "    t[i]=0\n",
    "    v[i]=0    \n",
    "    v_exact[i]=0\n",
    "#######################################\n",
    "    \n",
    "fig, ax = plt.subplots(figsize=(10,5))    \n",
    "ax.plot(t,v_exact,label='Analyticke reseni',linewidth=2)\n",
    "ax.scatter(t,v,label='Dvoukrokova metoda',color='C1')\n",
    "ax.set_xlabel('t')\n",
    "ax.legend()"
   ]
  },
  {
   "cell_type": "markdown",
   "id": "2706ae7c",
   "metadata": {},
   "source": [
    "Velikost chyby se postupně zvyšuje, jedná se tedy o nestabilní metodu, viz [vysvětlení](http://kfe.fjfi.cvut.cz/~vachal/edu/nme/cviceni/01_chyby/DOCS/priklad_nestabilniho_algoritmu.pdf)."
   ]
  }
 ],
 "metadata": {
  "kernelspec": {
   "display_name": "Python 3 (ipykernel)",
   "language": "python",
   "name": "python3"
  },
  "language_info": {
   "codemirror_mode": {
    "name": "ipython",
    "version": 3
   },
   "file_extension": ".py",
   "mimetype": "text/x-python",
   "name": "python",
   "nbconvert_exporter": "python",
   "pygments_lexer": "ipython3",
   "version": "3.8.8"
  }
 },
 "nbformat": 4,
 "nbformat_minor": 5
}