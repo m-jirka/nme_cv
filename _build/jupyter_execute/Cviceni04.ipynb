{
 "cells": [
  {
   "cell_type": "markdown",
   "id": "c12e30ea",
   "metadata": {},
   "source": [
    "# Iterační metody řešení soustav lineárních rovnic, hledání vlastních čísel"
   ]
  },
  {
   "cell_type": "markdown",
   "id": "d6464ffc",
   "metadata": {},
   "source": [
    "Naimportujeme si knihovny potřebné pro následující příklady:"
   ]
  },
  {
   "cell_type": "code",
   "execution_count": 1,
   "id": "9479552b",
   "metadata": {},
   "outputs": [],
   "source": [
    "import numpy as np\n",
    "import matplotlib.pyplot as plt"
   ]
  },
  {
   "cell_type": "markdown",
   "id": "3672173c",
   "metadata": {},
   "source": [
    "## Iterační metody:\n",
    "1. Řešení rovnice $\\mathbb{A}\\mathbf{x}=\\mathbf{b}$ odhadneme vektorem $\\mathbf{x}^{0}$\n",
    "2. Následné intearce $\\mathbf{x}^{(k+1)}=\\mathbb{B}\\mathbf{x}^{(k)}+\\mathbf{c}$ upřesňují náš počáteční odhad"
   ]
  },
  {
   "cell_type": "markdown",
   "id": "6b952ee4",
   "metadata": {},
   "source": [
    "### Jacobiho metoda"
   ]
  },
  {
   "cell_type": "markdown",
   "id": "ec1e4a6c",
   "metadata": {},
   "source": [
    "* Řešíme rovnici $\\mathbb{A}\\mathbf{x}=\\mathbf{b}$\n",
    "* Předpokládáme, že matice $\\mathbb{A}$ má nenulové diagonální prvky $a_{ii}\\neq 0$\n",
    "* Matici $\\mathbb{A}$ lze zapsat ve tvaru:\n",
    "\n",
    "$$\n",
    "\\mathbb{A}=\\mathbb{D}+\\mathbb{L}+\\mathbb{U}\n",
    "$$\n",
    "\n",
    "\n",
    "kde $\\mathbb{D}$ je diagonální, $\\mathbb{L}$ je dolní trojúhelníková a $\\mathbb{U}$ je horní trojúhelníková matice ($\\mathbb{L}$ a $\\mathbb{U}$ mají nulovou diagonálu)\n",
    "* Jacobiho metoda ([odvození](http://kfe.fjfi.cvut.cz/~vachal/edu/nme/cviceni/02_linalg/DOCS/teorie_iteracni_metody.pdf)):\n",
    "$$\n",
    "\\mathbf{x}^{(k+1)} = -\\mathbb{D}^{-1}\\left( \\mathbb{L}+\\mathbb{U}\\right)\\mathbf{x}^{(k)}+ \\mathbb{D}^{-1}\\mathbf{b}\n",
    "$$\n",
    " * Metoda konverguje, pokud je matice $\\mathbb{A}$ diagonálně dominantní, tj. $\\vert a_{ii}\\rvert > \\sum_{j=1,j\\neq i}^{n}\\vert a_{ij} \\rvert$"
   ]
  },
  {
   "cell_type": "markdown",
   "id": "73eaf98a",
   "metadata": {},
   "source": [
    "<div class=\"alert alert-block alert-warning\"><b>Cvičení 04.01: </b> Doplňte předpis pro Jacobiho metodu.</div>"
   ]
  },
  {
   "cell_type": "code",
   "execution_count": 2,
   "id": "747ce765",
   "metadata": {},
   "outputs": [
    {
     "data": {
      "text/plain": [
       "<matplotlib.legend.Legend at 0x7f595f92d7c0>"
      ]
     },
     "execution_count": 2,
     "metadata": {},
     "output_type": "execute_result"
    },
    {
     "data": {
      "image/png": "[encoded data removed]",
      "text/plain": [
       "<Figure size 1080x360 with 2 Axes>"
      ]
     },
     "metadata": {
      "filenames": {
       "image/png": "/home/mjirka/Documents/git/nme_cv/_build/jupyter_execute/Cviceni04_7_1.png"
      },
      "needs_background": "light"
     },
     "output_type": "display_data"
    }
   ],
   "source": [
    "#\n",
    "# Jacobiho metoda\n",
    "# Zvolme dve matice, A bude konvergovat, B nebude konvergovat\n",
    "# matice A je diagonalne dominantni\n",
    "A = np.array([\n",
    "    [5, 1, 1],\n",
    "    [2, 7, 3],\n",
    "    [2, 3, 8]             \n",
    "])\n",
    "\n",
    "# matice B neni diagonalne dominantni\n",
    "B = np.array([\n",
    "    [5, 10, 1],\n",
    "    [2, 7, 3],\n",
    "    [2, 3, 8]\n",
    "])\n",
    "\n",
    "# zvolime pravou stranu (radkovy vektor prevedeme na sloupcovy pomoci transpozice .T)\n",
    "b = np.array([[1, 1, 1]]).T\n",
    "\n",
    "# nastavime uvodni odhad reseni (radkovy vektor prevedeme na sloupcovy pomoci transpozice .T)\n",
    "xUvodni = np.array([[1, 2, 3]]).T\n",
    "\n",
    "# zvolime pocet iteraci, po ktere budeme chtit sledovat jak se reseni chova\n",
    "pocet_iteraci = 100\n",
    "\n",
    "# spocteme si reseni matic Ax=b a Bx=b primou metodou, pro kontrolu postupu\n",
    "reseniA = np.linalg.solve(A, b)\n",
    "reseniB = np.linalg.solve(B, b)\n",
    "\n",
    "# v prubehu iteraci si budeme pamatovat velikost vektoru reseni v i-tem kroku, \n",
    "# dale \"vzdalenost\" reseni v i-tem kroku od skutecneho reseni spocitaneho primou metodou\n",
    "\n",
    "# budeme iterovat matici A\n",
    "x = xUvodni\n",
    "L = np.tril(A,-1) # vytvori dolni trojuhlenikovou matici (s nulovou diagonalou)\n",
    "U = np.triu(A,1) # vytvori horni trojuhlenikovou matici (s nulovou diagonalou)\n",
    "D = A - L - U\n",
    "velikostReseniA = np.array([])\n",
    "velikostChybyA = np.array([])\n",
    "for i in range(pocet_iteraci):\n",
    "    velikostReseniA = np.append(velikostReseniA, np.linalg.norm(x))  # jen pro zobrazovani\n",
    "    velikostChybyA = np.append(velikostChybyA,np.linalg.norm(x-reseniA)) # jen pro zobrazovani\n",
    "    # DOPLNTE #\n",
    "    # DOPLNTE #\n",
    "\n",
    "\n",
    "# budeme iterovat matici B\n",
    "x = xUvodni\n",
    "L = np.tril(B,-1)  # vytvori dolni trojuhlenikovou matici (s nulovou diagonalou)\n",
    "U = np.triu(B,1)  # vytvori horni trojuhlenikovou matici (s nulovou diagonalou)\n",
    "D = B-L-U\n",
    "velikostReseniB = np.array([])\n",
    "velikostChybyB = np.array([])\n",
    "for i in range(pocet_iteraci):\n",
    "    velikostReseniB = np.append(velikostReseniB, np.linalg.norm(x))  # jen pro zobrazovani\n",
    "    velikostChybyB = np.append(velikostChybyB,np.linalg.norm(x-reseniB)) # jen pro zobrazovani\n",
    "    # DOPLNTE #\n",
    "    # DOPLNTE #\n",
    "    \n",
    "# zobrazime si, jak to vypada\n",
    "fig, ax = plt.subplots(1,2,figsize=(15,5))\n",
    "ax[0].plot(range(pocet_iteraci),velikostReseniA,label='Matice A - konverguje')\n",
    "ax[0].plot(range(pocet_iteraci),velikostReseniB,label='Matice B - diverguje')\n",
    "ax[0].set_yscale('log')\n",
    "ax[0].set_ylabel('Norma reseni v i-tem kroku')\n",
    "ax[0].set_xlabel('Iterace')\n",
    "ax[0].legend()\n",
    "\n",
    "ax[1].plot(range(pocet_iteraci),velikostChybyA,label='Matice A - konverguje')\n",
    "ax[1].plot(range(pocet_iteraci),velikostChybyB,label='Matice B - diverguje')\n",
    "ax[1].set_yscale('linear')\n",
    "ax[1].set_ylabel('Norma odchylky od skutecneho reseni')\n",
    "ax[1].set_xlabel('Iterace')\n",
    "ax[1].legend()"
   ]
  },
  {
   "cell_type": "markdown",
   "id": "f5fbff6a",
   "metadata": {},
   "source": [
    "###  Gauss-Seidelova metoda"
   ]
  },
  {
   "cell_type": "markdown",
   "id": "593985ae",
   "metadata": {},
   "source": [
    "* **Gauss-Seidelova metoda:**\n",
    "$$\n",
    "\\mathbf{x}^{(k+1)} = -\\left(\\mathbb{D}+\\mathbb{L} \\right)^{-1}\\mathbb{U}\\mathbf{x}^{(k)}+\\left(\\mathbb{D}+\\mathbb{L} \\right)^{-1}\\mathbf{b}\n",
    "$$\n",
    "* Při výpočtu složek vektoru $\\mathbf{x}_{i}^{(k+1)}$ používá již dříve vypočtené složky $(k+1).$ iterace\n",
    "* Metoda konverguje, pokud je matice $\\mathbb{A}$ diagonálně dominantní nebo symetrická pozitivně definitní (pozitivně definitní matice má vždy kladná vlastní čísla)"
   ]
  },
  {
   "cell_type": "markdown",
   "id": "fbe65c29",
   "metadata": {},
   "source": [
    "<div class=\"alert alert-block alert-warning\"><b>Cvičení 04.02: </b> Doplňte předpis pro Gauss-Seidelovu metodu.</div>"
   ]
  },
  {
   "cell_type": "code",
   "execution_count": 3,
   "id": "e84bc677",
   "metadata": {},
   "outputs": [
    {
     "data": {
      "text/plain": [
       "<matplotlib.legend.Legend at 0x7f595f54d880>"
      ]
     },
     "execution_count": 3,
     "metadata": {},
     "output_type": "execute_result"
    },
    {
     "data": {
      "image/png": "[encoded data removed]",
      "text/plain": [
       "<Figure size 1080x360 with 2 Axes>"
      ]
     },
     "metadata": {
      "filenames": {
       "image/png": "/home/mjirka/Documents/git/nme_cv/_build/jupyter_execute/Cviceni04_11_1.png"
      },
      "needs_background": "light"
     },
     "output_type": "display_data"
    }
   ],
   "source": [
    "#\n",
    "# Gauss-Seidelova metoda\n",
    "# Zvolme dve matice, A bude konvergovat, B nebude konvergovat\n",
    "# matice A je diagonalne dominantni\n",
    "A = np.array([\n",
    "    [5, 1, 1],\n",
    "    [2, 7, 3],\n",
    "    [2, 3, 8]             \n",
    "])\n",
    "\n",
    "# matice B neni diagonalne dominantni\n",
    "B = np.array([\n",
    "    [5, 10, 1],\n",
    "    [2, 7, 3],\n",
    "    [2, 3, 8]\n",
    "])\n",
    "\n",
    "# zvolime pravou stranu (radkovy vektor prevedeme na sloupcovy pomoci transpozice .T)\n",
    "b = np.array([[1, 1, 1]]).T\n",
    "\n",
    "# nastavime uvodni odhad reseni (radkovy vektor prevedeme na sloupcovy pomoci transpozice .T)\n",
    "xUvodni = np.array([[1, 2, 3]]).T\n",
    "\n",
    "# zvolime pocet iteraci, po ktere budeme chtit sledovat jak se reseni chova\n",
    "pocet_iteraci = 100\n",
    "\n",
    "# spocteme si reseni matic Ax=b a Bx=b primou metodou, pro kontrolu postupu\n",
    "reseniA = np.linalg.solve(A, b)\n",
    "reseniB = np.linalg.solve(B, b)\n",
    "\n",
    "# v prubehu iteraci si budeme pamatovat velikost vektoru reseni v i-tem kroku, \n",
    "# dale \"vzdalenost\" reseni v i-tem kroku od skutecneho reseni spocitaneho primou metodou\n",
    "\n",
    "# budeme iterovat matici A\n",
    "x = xUvodni\n",
    "L = np.tril(A,-1) # vytvori dolni trojuhlenikovou matici (s nulovou diagonalou)\n",
    "U = np.triu(A,1) # vytvori horni trojuhlenikovou matici (s nulovou diagonalou)\n",
    "D = A - L - U\n",
    "velikostReseniA = np.array([])\n",
    "velikostChybyA = np.array([])\n",
    "for i in range(pocet_iteraci):\n",
    "    velikostReseniA = np.append(velikostReseniA, np.linalg.norm(x))  # jen pro zobrazovani\n",
    "    velikostChybyA = np.append(velikostChybyA,np.linalg.norm(x-reseniA)) # jen pro zobrazovani\n",
    "    # DOPLNTE\n",
    "    # DOPLNTE\n",
    "\n",
    "\n",
    "\n",
    "# budeme iterovat matici B\n",
    "x = xUvodni\n",
    "L = np.tril(B,-1)  # vytvori dolni trojuhlenikovou matici (s nulovou diagonalou)\n",
    "U = np.triu(B,1)  # vytvori horni trojuhlenikovou matici (s nulovou diagonalou)\n",
    "D = B-L-U\n",
    "velikostReseniB = np.array([])\n",
    "velikostChybyB = np.array([])\n",
    "for i in range(pocet_iteraci):\n",
    "    velikostReseniB = np.append(velikostReseniB, np.linalg.norm(x))  # jen pro zobrazovani\n",
    "    velikostChybyB = np.append(velikostChybyB,np.linalg.norm(x-reseniB)) # jen pro zobrazovani\n",
    "    # DOPLNTE\n",
    "    # DOPLNTE\n",
    "\n",
    "# zobrazime si, jak to vypada\n",
    "fig, ax = plt.subplots(1,2,figsize=(15,5))\n",
    "ax[0].plot(range(pocet_iteraci),velikostReseniA,label='Matice A - konverguje')\n",
    "ax[0].plot(range(pocet_iteraci),velikostReseniB,label='Matice B - diverguje')\n",
    "ax[0].set_yscale('log')\n",
    "ax[0].set_ylabel('Norma reseni v i-tem kroku')\n",
    "ax[0].set_xlabel('Iterace')\n",
    "ax[0].legend()\n",
    "\n",
    "ax[1].plot(range(pocet_iteraci),velikostChybyA,label='Matice A - konverguje')\n",
    "ax[1].plot(range(pocet_iteraci),velikostChybyB,label='Matice B - diverguje')\n",
    "ax[1].set_yscale('linear')\n",
    "ax[1].set_ylabel('Norma odchylky od skutecneho reseni')\n",
    "ax[1].set_xlabel('Iterace')\n",
    "ax[1].legend()"
   ]
  },
  {
   "cell_type": "markdown",
   "id": "af25fae7",
   "metadata": {},
   "source": [
    "### Superrelaxační metoda"
   ]
  },
  {
   "cell_type": "markdown",
   "id": "762fa35a",
   "metadata": {},
   "source": [
    "* Gauss-Seidelova metoda může konvergovat pomalu\n",
    "* K urychlení iteračního procesu bývá využívána **superrelaxační metoda**:\n",
    "$$\n",
    "x_{i}^{(k+1)}=x_{i}^{(k)}+\\omega\\Delta x_{i}^{(k)}\n",
    "$$\n",
    " * rozdíl mezi iteracemi při Gauss-Seidelově metodě $\\Delta x_{i}^{(k)}=x_{i}^{(k+1)}-x_{i}^{(k)}$ \n",
    " * relaxační faktor $\\omega \\in (0,2)$ \n",
    " * optimální hodnota relaxačního faktoru $\\omega_{\\mathrm{opt}}=\\dfrac{2}{1+\\sqrt{1-\\rho^{2}\\left[-\\left(\\mathbb{D}+\\mathbb{L}\\right)^{-1}\\mathbb{R}\\right]}}$\n",
    "   * $\\rho(\\mathbb{A})$ představuje [spektrální poloměr](https://cs.wikipedia.org/wiki/Spektrum_matice) matice $\\mathbb{A}$"
   ]
  },
  {
   "cell_type": "markdown",
   "id": "b3721066",
   "metadata": {},
   "source": [
    "### Prostá iterace"
   ]
  },
  {
   "cell_type": "markdown",
   "id": "c5db7597",
   "metadata": {},
   "source": [
    "* **Prostá iterace**:\n",
    "$$\n",
    "\\mathbf{x}^{(k+1)}=\\left(\\mathbb{I}-\\mathbb{A} \\right)\\mathbf{x}^{(k)} + \\mathbf{b}\n",
    "$$"
   ]
  },
  {
   "cell_type": "markdown",
   "id": "bc99a7fb",
   "metadata": {},
   "source": [
    "### Porovnání prosté iterace, Jacobiho, Gauss-Seidelovy a superrelaxační metody"
   ]
  },
  {
   "cell_type": "markdown",
   "id": "779960b8",
   "metadata": {},
   "source": [
    "<div class=\"alert alert-block alert-warning\"><b>Cvičení 04.03: </b> Doplňte předpis pro prostou iteraci a superrelaxační metodu.</div>"
   ]
  },
  {
   "cell_type": "code",
   "execution_count": 4,
   "id": "619c2adc",
   "metadata": {},
   "outputs": [
    {
     "data": {
      "text/plain": [
       "<matplotlib.legend.Legend at 0x7f595f318a00>"
      ]
     },
     "execution_count": 4,
     "metadata": {},
     "output_type": "execute_result"
    },
    {
     "data": {
      "image/png": "[encoded data removed]",
      "text/plain": [
       "<Figure size 1080x360 with 1 Axes>"
      ]
     },
     "metadata": {
      "filenames": {
       "image/png": "/home/mjirka/Documents/git/nme_cv/_build/jupyter_execute/Cviceni04_18_1.png"
      },
      "needs_background": "light"
     },
     "output_type": "display_data"
    }
   ],
   "source": [
    "#\n",
    "# zvolme pocet iteraci\n",
    "pocet_iteraci = 100\n",
    "\n",
    "# zvolime nahodnou matici, uvidime jeslti bude konvergovat, ke ktere \n",
    "# pricteme jednotkovou diagonalni, zvysime tak pravdepodobnost ze vse bude konvergovat\n",
    "#A = rand(3)/2+eye(3)/2\n",
    "A = np.random.rand(3,3)/2+np.eye(3)/2\n",
    "\n",
    "# zvolime pozadovane reseni, ze ktereho napocitame pravou stranu\n",
    "origReseni = np.array([[1,1,1]]).T\n",
    "\n",
    "# najdeme pravou stranu\n",
    "b = np.dot(A,origReseni)\n",
    "\n",
    "# zvolime nahodny uvodni odhad ze ktereho budeme iterovat\n",
    "uvodniOdhad = np.random.rand(3,1)\n",
    "\n",
    "# zvolime omega pro superrelaxaci, nebude optimalni, nevadi\n",
    "omega = 1.6\n",
    "\n",
    "# PROSTA ITERACE\n",
    "# spocteme si matici B jako I-A\n",
    "B = np.eye(A.shape[0])-A\n",
    "x = uvodniOdhad\n",
    "vzdProstaIterace = np.array([])\n",
    "for i in range(pocet_iteraci):\n",
    "    # DOPLNTE\n",
    "    # DOPLNTE\n",
    "    vzdProstaIterace = np.append(vzdProstaIterace,np.linalg.norm(x-origReseni))\n",
    "\n",
    "# JACOBI\n",
    "L = np.tril(A,-1) # vytvori dolni trojuhlenikovou matici (s nulovou diagonalou)\n",
    "U = np.triu(A,1) # vytvori horni trojuhlenikovou matici (s nulovou diagonalou)\n",
    "D = A - L - U\n",
    "F = -np.dot(np.linalg.inv(D),(L+U))\n",
    "G = np.linalg.inv(D)\n",
    "x = uvodniOdhad\n",
    "vzdJacobi = np.array([])\n",
    "for i in range(pocet_iteraci):\n",
    "    x = np.dot(F,x) + np.dot(G,b)                         # toto je vlastni vypocet \n",
    "    vzdJacobi = np.append(vzdJacobi,np.linalg.norm(x-origReseni))\n",
    "    \n",
    "# GAUSS-SEIDEL\n",
    "L = np.tril(A,-1) # vytvori dolni trojuhlenikovou matici (s nulovou diagonalou)\n",
    "U = np.triu(A,1) # vytvori horni trojuhlenikovou matici (s nulovou diagonalou)\n",
    "D = A - L - U\n",
    "F = -np.dot(np.linalg.inv(D+L),U)\n",
    "G = np.linalg.inv(D+L)\n",
    "x = uvodniOdhad\n",
    "vzdGaussSeidel = np.array([])\n",
    "for i in range(pocet_iteraci):\n",
    "    x = np.dot(F,x) + np.dot(G,b)                         # toto je vlastni vypocet \n",
    "    vzdGaussSeidel = np.append(vzdGaussSeidel,np.linalg.norm(x-origReseni))\n",
    "\n",
    "# SUPERRELAXACE + GAUS-SEIDEL\n",
    "L = np.tril(A,-1) # vytvori dolni trojuhlenikovou matici (s nulovou diagonalou)\n",
    "U = np.triu(A,1) # vytvori horni trojuhlenikovou matici (s nulovou diagonalou)\n",
    "D = A - L - U\n",
    "\n",
    "# toto je ze seidela\n",
    "F = -np.dot(np.linalg.inv(D+L),U)\n",
    "G = np.linalg.inv(D+L)\n",
    "\n",
    "x = uvodniOdhad\n",
    "vzdSuperRelaxace = np.array([])\n",
    "for i in range(pocet_iteraci):\n",
    "    # DOPLNTE\n",
    "    # DOPLNTE\n",
    "    vzdSuperRelaxace = np.append(vzdSuperRelaxace,np.linalg.norm(x-origReseni))\n",
    "\n",
    "\n",
    "    \n",
    "# SUPERRELAXACE s opt. omega\n",
    "L = np.tril(A,-1) # vytvori dolni trojuhlenikovou matici (s nulovou diagonalou)\n",
    "U = np.triu(A,1) # vytvori horni trojuhlenikovou matici (s nulovou diagonalou)\n",
    "D = A - L - U\n",
    "\n",
    "# toto je ze seidela\n",
    "F = -np.dot(np.linalg.inv(D+L),U)\n",
    "G = np.linalg.inv(D+L)\n",
    "\n",
    "# spektralni polomer matice F (maximum z mnoziny vlastnich cisel matice F)\n",
    "r = np.max(np.abs(np.linalg.eig(F)[0]))\n",
    "\n",
    "omega = 2/( 1+np.sqrt(np.abs(1-r**2))) # optimalni omega\n",
    "x = uvodniOdhad\n",
    "vzdSuperRelaxaceOmega = np.array([])\n",
    "for i in range(pocet_iteraci):\n",
    "    # DOPLNTE\n",
    "    # DOPLNTE\n",
    "    vzdSuperRelaxaceOmega = np.append(vzdSuperRelaxaceOmega,np.linalg.norm(x-origReseni))\n",
    "\n",
    "# ZOBRAZIME\n",
    "# zobrazime si jak to vypada\n",
    "fig, ax = plt.subplots(figsize=(15,5))\n",
    "ax.plot(range(pocet_iteraci),vzdProstaIterace,label='Prosta iterace')\n",
    "ax.plot(range(pocet_iteraci),vzdJacobi,label='Jacobi')\n",
    "ax.plot(range(pocet_iteraci),vzdGaussSeidel,label='Gauss-Seidel')\n",
    "ax.plot(range(pocet_iteraci),vzdSuperRelaxace,label='Superrelaxace')\n",
    "ax.plot(range(pocet_iteraci),vzdSuperRelaxaceOmega,label=r'Superrelaxace s optimalni volbou $\\omega$')\n",
    "ax.set_yscale('log')\n",
    "ax.set_ylabel('Norma odchylky od skutecneho reseni')\n",
    "ax.set_xlabel('Iterace')\n",
    "ax.legend()\n",
    "                 \n"
   ]
  },
  {
   "cell_type": "markdown",
   "id": "7ba5d8e9",
   "metadata": {},
   "source": [
    "## Hledání vlastních čísel a vektorů matice"
   ]
  },
  {
   "cell_type": "markdown",
   "id": "b81e52ae",
   "metadata": {},
   "source": [
    "* Nechť pro číslo $\\lambda$ existuje vektor $\\mathbf{x}\\neq\\mathbf{0} $ takový, že $\\mathbb{A}\\mathbf{x}=\\lambda\\mathbf{x}$. Pak:\n",
    " * $\\lambda$ je vlastní číslo matice $\\mathbb{A}$\n",
    " * $\\mathbf{x}$ je vlastní vektor matice $\\mathbb{A}$\n",
    "\n",
    "\n",
    "* Motivace: vlastní čísla a vlastní vektory souvisí např. s [operátory v kvantové fyzice](https://www.aldebaran.cz/studium/f2/docs/12_kvanta.pdf), [rezonanční frekvencí](https://www.aldebaran.cz/bulletin/2017_23_tac.php), ... atd.\n",
    "\n",
    "\n",
    "* Typy úloh:\n",
    "    1. Úplný problém vlastních čísel - hledání všech vlastních čísel matice a případně i příslušných vlastních vektorů\n",
    "    2. Částečný problém vlastních čísel - hledání jednoho nebo několika vlastních čísel\n",
    "\n",
    "\n",
    "* Příklad na částečný problém vlastních čísel: hledám vlastní číslo matice $\\mathbb{A}$, které je největší v absolutní hodnotě. Postup:\n",
    "  1. Zvolíme libovolné $\\mathbf{v}^{(0)}$ jako počáteční odhad vlastního vektoru\n",
    "  2. Iterujeme\n",
    "$$\n",
    "\\lambda^{(k+1)}=\\lVert \\mathbb{A}\\mathbf{v}^{(k)} \\rVert\n",
    "$$\n",
    "            \n",
    "$$\n",
    "\\mathbf{v}^{(k+1)}=\\dfrac{\\mathbb{A}\\mathbf{v}^{(k)}}{\\Vert \\mathbb{A}\\mathbf{v}^{(k)} \\rVert}\n",
    "$$\n"
   ]
  },
  {
   "cell_type": "markdown",
   "id": "ed098677",
   "metadata": {},
   "source": [
    "<div class=\"alert alert-block alert-warning\"><b>Cvičení 04.04: </b> Doplňte předpis pro výpočet vlastního vektoru.</div>"
   ]
  },
  {
   "cell_type": "code",
   "execution_count": 5,
   "id": "e2384607",
   "metadata": {},
   "outputs": [
    {
     "name": "stdout",
     "output_type": "stream",
     "text": [
      "Odhad nejvetsiho vlastniho cisla =  8.189780216831219\n",
      "Odhad prislusneho vlastniho vektoru =  [[1]\n",
      " [1]\n",
      " [1]]\n"
     ]
    },
    {
     "data": {
      "text/plain": [
       "<matplotlib.legend.Legend at 0x7f595f6c7cd0>"
      ]
     },
     "execution_count": 5,
     "metadata": {},
     "output_type": "execute_result"
    },
    {
     "data": {
      "image/png": "[encoded data removed]",
      "text/plain": [
       "<Figure size 1080x360 with 1 Axes>"
      ]
     },
     "metadata": {
      "filenames": {
       "image/png": "/home/mjirka/Documents/git/nme_cv/_build/jupyter_execute/Cviceni04_22_2.png"
      },
      "needs_background": "light"
     },
     "output_type": "display_data"
    }
   ],
   "source": [
    "# vypocet nejvetsiho vlastniho cisla\n",
    "\n",
    "# pouzijeme velmi jednoduchou diagonalni matici 3x3, u ktere zname vlastni cisla, \n",
    "# ale muzete si vyzkouset i jine matice\n",
    "\n",
    "#\n",
    "#matice = np.array([\n",
    "#    [4, 0, 0],\n",
    "#    [0, 3.7, 0],\n",
    "#    [0, 0, 3]\n",
    "#])\n",
    "\n",
    "matice = np.array([\n",
    "    [4, 0, -10],\n",
    "    [0, 3.7, -8.8],\n",
    "    [-7.85, 2.6, 3]\n",
    "    ])\n",
    "\n",
    "# do vlastniho vektoru v ulozime uvodni odhad\n",
    "v = np.array([[1,1,1]]).T\n",
    "\n",
    "# budeme opakovat 50, v prubehu vypoctu si budeme pamatovat normu matice*v, \n",
    "# tedy odhad vlastniho cisla (vime ze se ma blizit ctyrce)\n",
    "\n",
    "pocet_iteraci = 50\n",
    "odhadVlastnihoCisla = np.array([])\n",
    "for i in range(pocet_iteraci):\n",
    "    odhadVlastnihoCisla = np.append(odhadVlastnihoCisla,np.linalg.norm(np.dot(matice,v)))\n",
    "    # DOPLNTE\n",
    "    # DOPLNTE\n",
    "    \n",
    "\n",
    "# odhad nejvetsiho vlastniho cisla je\n",
    "lambda_odhad = np.linalg.norm(np.dot(matice,v))\n",
    "print('Odhad nejvetsiho vlastniho cisla = ',lambda_odhad)\n",
    "\n",
    "\n",
    "# odhad vlastniho vektoru je\n",
    "print('Odhad prislusneho vlastniho vektoru = ',v)\n",
    "\n",
    "# zobrazime si jak jsme se k vlastnimu cislu blizili\n",
    "\n",
    "fig, ax = plt.subplots(figsize=(15,5))\n",
    "ax.plot(range(pocet_iteraci),odhadVlastnihoCisla,label='Odhad vlastniho cisla')\n",
    "ax.set_ylabel('Norma odhadu vlastniho cisla')\n",
    "ax.set_xlabel('Iterace')\n",
    "ax.legend()\n",
    " \n",
    "# kontrola    \n",
    "#vl_cislo_reseni, vl_vektor_reseni = np.linalg.eig(matice)\n",
    "#print(np.max(vl_cislo_reseni))\n",
    "#print(vl_vektor_reseni)"
   ]
  }
 ],
 "metadata": {
  "kernelspec": {
   "display_name": "Python 3",
   "language": "python",
   "name": "python3"
  },
  "language_info": {
   "codemirror_mode": {
    "name": "ipython",
    "version": 3
   },
   "file_extension": ".py",
   "mimetype": "text/x-python",
   "name": "python",
   "nbconvert_exporter": "python",
   "pygments_lexer": "ipython3",
   "version": "3.8.8"
  }
 },
 "nbformat": 4,
 "nbformat_minor": 5
}