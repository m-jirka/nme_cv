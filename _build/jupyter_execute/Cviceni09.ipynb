{
 "cells": [
  {
   "cell_type": "markdown",
   "id": "c12e30ea",
   "metadata": {},
   "source": [
    "# Numerická integrace"
   ]
  },
  {
   "cell_type": "markdown",
   "id": "d6464ffc",
   "metadata": {},
   "source": [
    "Naimportujeme si knihovny potřebné pro následující příklady:"
   ]
  },
  {
   "cell_type": "code",
   "execution_count": 1,
   "id": "9479552b",
   "metadata": {},
   "outputs": [],
   "source": [
    "import numpy as np\n",
    "import matplotlib.pyplot as plt\n",
    "import scipy.integrate as integrate"
   ]
  },
  {
   "cell_type": "markdown",
   "id": "e361df73",
   "metadata": {},
   "source": [
    "## Klasické kvadraturní vzorce\n",
    "- Máme ekvidistantní body $x_{i}$ a vypočteme $f_{i}(x_{i})$\n",
    "- V 1D aproximujeme integrál pomocí obdélníků/lichoběžníků\n",
    "- Přesnost je dána šířkou obdélníku\n",
    "\n",
    "### Newton–Cotesovy vzorce\n",
    "1. Obdélníkové pravidlo\n",
    "$$\n",
    "\\int_{x_{1}}^{x_{2}}f(x)\\,dx\\approx (x_{2}-x_{1})f\\left( \\dfrac{x_{2}-x_{1}}{2} \\right)\n",
    "$$\n",
    "\n",
    "2. Lichoběžníkové pravidlo\n",
    "$$\n",
    "\\int_{x_{1}}^{x_{2}}f(x)\\,dx\\approx (x_{2}-x_{1})\\dfrac{f(x_{1})+f(x_{2})}{2}\n",
    "$$\n",
    "\n",
    "3. Simpsonovo pravidlo\n",
    " - [Odvození](http://kfe.fjfi.cvut.cz/~vachal/edu/nme/cviceni/07_numint/DOCS/odvozeni_integrace_Lagrange.pdf)\n",
    "$$\n",
    "\\int_{x_{1}}^{x_{3}}f(x)\\,dx\\approx (x_{2}-x_{1})\\dfrac{f(x_{1})+4f(x_{2})+f(x_{3})}{3}\n",
    "$$\n"
   ]
  },
  {
   "cell_type": "markdown",
   "id": "bd57fad7",
   "metadata": {},
   "source": [
    "<div class=\"alert alert-block alert-warning\"><b>Cvičení 09.01: </b>Pomocí obdélníkové, lichoběžníkové a Simpsonovy metody numericky vypočtěte <a href=\"https://www.wolframalpha.com/input?i=integrate+sin%28x%29+from+1+to+5\">integrál</a> $\\int_{1}^{5} \\sin(x)\\,dx$.</div>"
   ]
  },
  {
   "cell_type": "code",
   "execution_count": 2,
   "id": "8617f468",
   "metadata": {},
   "outputs": [
    {
     "name": "stdout",
     "output_type": "stream",
     "text": [
      "Obdelnikova metoda:  0.256657230544745\n",
      "Lichobeznikova metoda:  0.2566059008096602\n",
      "Simpsonovo pravidlo:  0.25664012405560144\n"
     ]
    }
   ],
   "source": [
    "# kod\n",
    "\n",
    "pocet_kroku = 100\n",
    "a = 1\n",
    "b = 5\n",
    "\n",
    "def f(x):\n",
    "    return np.sin(x)\n",
    "\n",
    "r = (b-a)/pocet_kroku # velikost kroku\n",
    "\n",
    "# obdelnikova metoa\n",
    "S_obdelnik = 0\n",
    "for i in range(pocet_kroku):\n",
    "    bod = a + i*r\n",
    "    # DOPLNTE\n",
    "    S_obdelnik = S_obdelnik + r*(f(bod+r/2))\n",
    "print('Obdelnikova metoda: ',S_obdelnik)\n",
    "\n",
    "# lichobeznikova metoda\n",
    "S_lichobeznik = 0\n",
    "for i in range(pocet_kroku):\n",
    "    bod = a + i*r  \n",
    "    # DOPLNTE\n",
    "    S_lichobeznik = S_lichobeznik + r*(f(bod)+f(bod+r))/2\n",
    "print('Lichobeznikova metoda: ',S_lichobeznik)\n",
    "\n",
    "# Simpsonovo pravidlo\n",
    "S_simpson = 0\n",
    "pocet_kroku_simpson = int(np.round(pocet_kroku/2))\n",
    "for i in range(pocet_kroku_simpson):\n",
    "    bod = a + 2*i*r\n",
    "    # DOPLNTE\n",
    "    S_simpson = S_simpson + r/3*(f(bod) + 4*f(bod+r) + f(bod + 2*r))\n",
    "print('Simpsonovo pravidlo: ',S_simpson)"
   ]
  },
  {
   "cell_type": "markdown",
   "id": "61aed8b5",
   "metadata": {},
   "source": [
    "## Gaussovy kvadratury"
   ]
  },
  {
   "cell_type": "markdown",
   "id": "2eb47caf",
   "metadata": {},
   "source": [
    "- Výpočet integrálu při neekvidistantním rozdělení bodů $x_{i}$ s různými váhami $w_{i}$\n",
    "- Chceme spočítat integrál s minimálním počtem vyčíslení $f(x)$\n",
    "- Volíme optimální polohu bodů $x_{i}$ a příslušné váhy $w_{i}$\n",
    "- $N+1$ bodů dává přesný výsledek pro polynomy řádu $\\leq 2N+1$\n",
    "- Dvojnásobná přesnost oproti integraci s ekvidistantním rozdělením\n",
    "- Pro polohu bodů a příslušné váhy používáme tyto polynomy:\n",
    " - Legenderovy na intervalu $(-1,1)$\n",
    " - Čebyševovy na intervalu $(-1,1)$\n",
    " - Laguerrovy na intervalu $(0,+\\infty)$\n",
    " - Hermiteovy na intervalu $(-\\infty,+\\infty)$\n",
    "- Funkci $f(x)$ interpolujeme daným typem polynomu, nalezneme $w_{i}$ a $x_{i}$ \n",
    "- Následně lze integrál numericky vypočítat předpisem:\n",
    "$$\n",
    "\\int_{-1}^{1}f(x)dx\\approx \\sum_{i=1}^{n}w_{i}f(x_{i})\n",
    "$$\n",
    "- Pokud integrujeme přes interval $\\langle a,b\\rangle$, získáme předpis:\n",
    "$$\n",
    "\\int_{a}^{b}f(x)dx\\approx \\sum_{i=1}^{n}\\tilde{w}_{i}f(\\tilde{x}_{i}),\n",
    "$$\n",
    "kde\n",
    "$$\n",
    "\\tilde{w}_{i} = w_{i}\\dfrac{b-a}{2}\n",
    "$$\n",
    "$$\n",
    "\\tilde{x}_{i} = \\dfrac{(b-a)x_{i}+a+b}{2}\n",
    "$$"
   ]
  },
  {
   "cell_type": "markdown",
   "id": "779dbadf",
   "metadata": {},
   "source": [
    "<div class=\"alert alert-block alert-warning\"><b>Cvičení 09.02: </b>Metodou Gaussovy kvadratury numericky vypočtěte <a href=\"https://www.wolframalpha.com/input?i=sin%28x%29exp%28cos%28x%29%29\">integrál</a> $\\int_{0}^{\\pi} \\sin(x)\\exp[\\cos(x)]\\,dx$.</div>"
   ]
  },
  {
   "cell_type": "code",
   "execution_count": 3,
   "id": "7ad34c64",
   "metadata": {},
   "outputs": [
    {
     "name": "stdout",
     "output_type": "stream",
     "text": [
      "Nas vypocet:  2.348228171380327\n",
      "Kontrola:  2.350402387287603\n"
     ]
    }
   ],
   "source": [
    "# kod\n",
    "\n",
    "# v kazdem radku je bod a prislusna vaha vypoctena z interpolace Legenderovym polynomem\n",
    "vahy = np.array([\n",
    "[ -0.987992518, 0.03075324221],\n",
    "[-0.9372733924, 0.07036604699],\n",
    "[-0.8482065834, 0.1071592202],\n",
    "[-0.7244177314, 0.139570678],\n",
    "[-0.5709721726, 0.1662692057],\n",
    "[-0.3941513471 ,0.1861609998],\n",
    "[-0.201194094 ,0.1984314853],\n",
    "[0.0, 0.201194094],\n",
    "[0.201194094, 0.1984314853],\n",
    "[0.3941513471, 0.1861609998],\n",
    "[0.5709721726, 0.1662692057],\n",
    "[0.7244177314, 0.139570678],\n",
    "[0.8482065834, 0.1071592202],\n",
    "[0.9372733924, 0.07036604699],\n",
    "[0.987992518, 0.03075324221 ]\n",
    "])\n",
    "\n",
    "def f(x):\n",
    "    return np.sin(x)*np.exp(np.cos(x))\n",
    "\n",
    "# integracni meze\n",
    "a = 0\n",
    "b = np.pi\n",
    "\n",
    "integral = 0\n",
    "\n",
    "m = vahy.shape[0] # pocet bodu\n",
    "\n",
    "for i in range(m):\n",
    "    # prvek vahy[i,0] vrati i-ty bod, prvek vahy[i,1] vrati i-tou vahu\n",
    "    # body jsou preskalovane z (-1,1) na (a,b)\n",
    "    # DOPLNTE\n",
    "    #\n",
    "    # DOPLNTE\n",
    "    integral = integral+ vahy[i,1]*(b-a)/2*f(((b-a)*vahy[i,0]+ (a+b))/2)\n",
    "\n",
    "print('Nas vypocet: ',integral)\n",
    "\n",
    "kontrola = integrate.quad(f, a, b)[0]\n",
    "print('Kontrola: ', kontrola)\n"
   ]
  },
  {
   "cell_type": "markdown",
   "id": "04b8afa0",
   "metadata": {},
   "source": [
    "## Rombergova metoda\n",
    "- Algoritmus na zpřesnění výpočtu integrálu\n",
    "- Pro zadanou přesnost integrace sníží počet bodů, ve kterých musíme počítat funkční hodnotu\n",
    "- [Teorie](http://kfe.fjfi.cvut.cz/~vachal/edu/nme/cviceni/07_numint/DOCS/teorie_Rombergova_metoda.pdf)"
   ]
  },
  {
   "cell_type": "markdown",
   "id": "4dcaf7cc",
   "metadata": {},
   "source": [
    "<div class=\"alert alert-block alert-warning\"><b>Cvičení 09.03: </b> Zpřesněte numerický výpočet <a href=\"https://www.wolframalpha.com/input?i=sin%28x%29exp%28cos%28x%29%29\">integrálu</a> $\\int_{0}^{\\pi} \\sin(x)\\exp[\\cos(x)]\\,dx$ Rombergovou metodou.</div>"
   ]
  },
  {
   "cell_type": "code",
   "execution_count": 4,
   "id": "af947a1a",
   "metadata": {
    "scrolled": true
   },
   "outputs": [
    {
     "data": {
      "text/plain": [
       "<matplotlib.legend.Legend at 0x7f71ac19e130>"
      ]
     },
     "execution_count": 4,
     "metadata": {},
     "output_type": "execute_result"
    },
    {
     "data": {
      "image/png": "[encoded data removed]",
      "text/plain": [
       "<Figure size 1080x360 with 3 Axes>"
      ]
     },
     "metadata": {
      "filenames": {
       "image/png": "/home/mjirka/Documents/git/nme_cv/_build/jupyter_execute/Cviceni09_12_1.png"
      },
      "needs_background": "light"
     },
     "output_type": "display_data"
    }
   ],
   "source": [
    "# kod\n",
    "def f(x):\n",
    "    return np.sin(x)*np.exp(np.cos(x))\n",
    "\n",
    "# slozene lichobeznikove pravidlo\n",
    "def lichobeznik(funkce,odkud,kam,krok):\n",
    "    xArr = np.arange(odkud, kam, krok)\n",
    "    integral = 0  \n",
    "    for x in xArr:\n",
    "        # secteme vsechny funkcni hodnoty, ktere se opakuji dvakrat\n",
    "        integral = integral + funkce(x)\n",
    "    # a odecteme poloviny kraju\n",
    "    #integral = integral-0.5*funkce(xArr(1)) - 0.5*funkce(xArr(size(xArr,2)));\n",
    "    integral = integral - 0.5 * funkce(xArr[0]) - 0.5 * funkce(xArr[xArr.size-1])\n",
    "    return integral * krok    \n",
    "\n",
    "\n",
    "integ = np.zeros((4,1))\n",
    "h0 = 0.1\n",
    "for i in range(4):\n",
    "    h = h0/(2**(i))\n",
    "    integ[i,0] = lichobeznik(f,0,np.pi,h)\n",
    "\n",
    "# presna hodnota:\n",
    "v = (np.exp(1)-np.exp(-1))\n",
    "presna_hodnota = v*np.ones((4,1))\n",
    "#\n",
    "\n",
    "fig, ax = plt.subplots(1,3,figsize=(15,5))\n",
    "\n",
    "ax[0].scatter([0,1,2,3],integ,label='numericky vypocet - iterace')\n",
    "ax[0].plot(presna_hodnota,label='presna hodnota')\n",
    "ax[0].set_xlabel('iterace')\n",
    "ax[0].set_ylabel('vysledek')\n",
    "ax[0].legend()\n",
    "\n",
    "# zpresneni Romberg. metodou\n",
    "r1=4/3*integ[1,0]-1/3*integ[0,0]\n",
    "ax[1].scatter([0,1,2,3],integ,label='numericky vypocet - iterace')\n",
    "ax[1].plot(presna_hodnota,label='presna hodnota')\n",
    "ax[1].scatter(1,r1, marker=\"x\",label='zpresneni Romberg. metodou')\n",
    "ax[1].set_xlabel('iterace')\n",
    "ax[1].legend()\n",
    "\n",
    "# dalsi zpresneni Romberg. metodou\n",
    "r2 = 64/45 * integ[2,0] - 20/45 * integ[1,0] + 1/45*integ[0,0]\n",
    "ax[2].scatter([0,1,2,3],integ,label='numericky vypocet - iterace')\n",
    "ax[2].plot(presna_hodnota,label='presna hodnota')\n",
    "ax[2].scatter(1,r1, marker=\"x\",label='zpresneni vypoctu Romberg. metodou')\n",
    "ax[2].scatter(2,r2, marker=\"x\",color='C8',label='dalsi zpresneni Romberg. metodou')\n",
    "ax[2].set_xlabel('iterace')\n",
    "ax[2].legend()"
   ]
  },
  {
   "cell_type": "markdown",
   "id": "55be0a35",
   "metadata": {},
   "source": [
    "## Vícedimenzionální integrály\n",
    "- $N$ dimenzí\n",
    "- Počet bodů, ve kterých vyčíslujeme funkční hodnotu roste s $N$-tou mocninou\n",
    "    - Např. 30 bodů v jedné dimenzi, ve třech dimenzích počítáme funkci ve $30^{3}=27000$ bodech\n",
    "- Metody\n",
    " - 1. Snížení dimenze pomocí symetrie\n",
    " - 2. Posloupnost opakovaných jednodimenzionálních integrací\n",
    " - 3. Monte-Carlo\n"
   ]
  },
  {
   "cell_type": "markdown",
   "id": "eb43031b",
   "metadata": {},
   "source": [
    "### Metoda Monte-Carlo\n",
    "- Integrační oblast $V$ uzavřeme do co nejmenší oblasti se známým objemem $V'$, ve které lze snadno generovat náhodné body\n",
    "- Vygenerujeme $N$ náhodných bodů ve $V'$ a vypočteme integrál\n",
    "$$\n",
    "\\int f(\\vec{x})dV\\approx\\dfrac{V'}{N}\\sum_{i=1}^{N}f'(\\vec{x}_{i}),\n",
    "$$\n",
    "kde $f'(\\vec{x}) = f(\\vec{x})$, pokud $\\vec{x}\\in V$. Jinak $f'(\\vec{x}) = 0$.\n",
    "\n",
    "\n"
   ]
  },
  {
   "cell_type": "markdown",
   "id": "ec2eb77f",
   "metadata": {},
   "source": [
    "<div class=\"alert alert-block alert-warning\"><b>Cvičení 09.04: </b> Metodou Monte-Carlo určete velikost konstanty $\\pi$.</div>"
   ]
  },
  {
   "cell_type": "code",
   "execution_count": 5,
   "id": "cf28c98c",
   "metadata": {
    "scrolled": true
   },
   "outputs": [
    {
     "name": "stdout",
     "output_type": "stream",
     "text": [
      "Vypoctena hodnota pi =  2.0\n"
     ]
    },
    {
     "data": {
      "image/png": "[encoded data removed]",
      "text/plain": [
       "<Figure size 1080x324 with 2 Axes>"
      ]
     },
     "metadata": {
      "filenames": {
       "image/png": "/home/mjirka/Documents/git/nme_cv/_build/jupyter_execute/Cviceni09_16_1.png"
      },
      "needs_background": "light"
     },
     "output_type": "display_data"
    }
   ],
   "source": [
    "# kod\n",
    "\n",
    "kapek = 0    # pocet kapek\n",
    "vkruhu = 0   # pocet kapek v kruhu\n",
    "npi = 0      # odhad pi\n",
    "steps = 10 # pocet kroku\n",
    "plotPi = np.zeros((steps,1))\n",
    "\n",
    "fig, ax = plt.subplots(1,2,figsize=(15,4.5))\n",
    "\n",
    "for i in range(steps): \n",
    "    kapek = kapek+1\n",
    "    x = np.random.rand(1,2)    # dve nahodna cisla - bod (x1,x2)\n",
    "    # jsou uvnitr kruhu se stredem (0.5,0.5) a polomerem 0.5?\n",
    "    # DOPLNTE\n",
    "    #\n",
    "    # DOPLNTE\n",
    "    if (x[0,0]-0.5)**2+(x[0,1]-0.5)**2<0.5**2:\n",
    "        vkruhu = vkruhu + 1    # pricteme je\n",
    "        ax[0].scatter(x[0,0], x[0,1], marker=\"x\", color='red')\n",
    "    else:\n",
    "        ax[0].scatter(x[0,0], x[0,1], marker=\"x\", color='blue')\n",
    "    npi = 4 * vkruhu / kapek\n",
    "    plotPi[i] = npi \n",
    "\n",
    "ax[0].set_aspect('equal')\n",
    "ax[0].set_xlim((0,1))\n",
    "ax[0].set_ylim((0,1))\n",
    "\n",
    "ax[1].plot(plotPi,linewidth=2,label=r'numericky vypocet hodnoty $\\pi$')\n",
    "ax[1].set_ylabel('vysledek')\n",
    "ax[1].set_xlabel('iterace')\n",
    "ax[1].legend()\n",
    "\n",
    "print('Vypoctena hodnota pi = ',npi)\n"
   ]
  },
  {
   "cell_type": "markdown",
   "id": "95a6df08",
   "metadata": {},
   "source": [
    "<div class=\"alert alert-block alert-warning\"><b>Cvičení 09.05: </b> Numericky vypočítejte <a href=\"https://www.wolframalpha.com/input?i=integrate+x%2By+for+0%3Cx%3C1+and+0%3Cy%3C1\">integrál</a> $\\int_{0}^{1}\\int_{0}^{1}(x+y) dx dy$. Vykreslete výslednou hodnotu, absolutní chybu a odhad přesnosti metody v závislosti na počtu kroků.</div>"
   ]
  },
  {
   "cell_type": "code",
   "execution_count": 6,
   "id": "10dcd617",
   "metadata": {},
   "outputs": [
    {
     "name": "stdout",
     "output_type": "stream",
     "text": [
      "Numericka integrace =  0.9987722999572359\n",
      "Kontrola =  1\n"
     ]
    },
    {
     "data": {
      "text/plain": [
       "<matplotlib.legend.Legend at 0x7f71abf16610>"
      ]
     },
     "execution_count": 6,
     "metadata": {},
     "output_type": "execute_result"
    },
    {
     "data": {
      "image/png": "[encoded data removed]",
      "text/plain": [
       "<Figure size 1080x360 with 2 Axes>"
      ]
     },
     "metadata": {
      "filenames": {
       "image/png": "/home/mjirka/Documents/git/nme_cv/_build/jupyter_execute/Cviceni09_18_2.png"
      },
      "needs_background": "light"
     },
     "output_type": "display_data"
    }
   ],
   "source": [
    "# kod\n",
    "def f(x,y):\n",
    "    return x+y\n",
    "\n",
    "kroku = 10000\n",
    "vysledky = np.zeros((kroku,1)) # vysledky\n",
    "uspech = 0   # pocet uspesnych pokusu\n",
    "suma = 0\n",
    "\n",
    "for i in range(kroku):\n",
    "    # DOPLNTE\n",
    "    # \n",
    "    # DOPLNTE\n",
    "    r = np.random.rand(1,2)  # dve nahodna cisla v intervalu (0,1)\n",
    "    value =  f(r[0,0],r[0,1])  # vypocteme funkcni hodnotu v techto dvou nahodnych bodech\n",
    "    suma = suma + value    # pricteme ke kumulovane hodnote\n",
    "    vysledky[i,0] = suma / (i+1)  # prumer (kumul. hodnota delena poctem kroku)\n",
    "integral = suma / kroku\n",
    "\n",
    "\n",
    "spravny_vysledek = 1\n",
    "print('Numericka integrace = ',integral)\n",
    "print('Kontrola = ',spravny_vysledek)\n",
    "\n",
    "spravny_vysledek = spravny_vysledek*np.ones((kroku,1))\n",
    "\n",
    "# absolutni chyba\n",
    "abs_chyba = np.abs(vysledky-spravny_vysledek)\n",
    "# presnost vypoctu metodou Monte-Carlo je ~ 1/sqrt(N)\n",
    "odhad_presnosti = np.linspace(1,kroku+1,num=kroku)**(-1/2)\n",
    "\n",
    "\n",
    "fig, ax = plt.subplots(1,2,figsize=(15,5))\n",
    "ax[0].plot(vysledky[:,0],linewidth=2,label='numericka integrace')\n",
    "ax[0].plot(spravny_vysledek*np.ones((kroku,1)),linewidth=2,label='presna hodnota')\n",
    "ax[0].set_xlabel(r'pocet kroku $N$')\n",
    "ax[0].set_ylabel('vysledek')\n",
    "ax[0].legend()\n",
    "\n",
    "ax[1].plot(abs_chyba,linewidth=2,color='C4',label='absolutni chyba')\n",
    "ax[1].plot(odhad_presnosti,linewidth=2,color='cyan',label=r'analyticky odhad presnosti metody $1/\\sqrt{N}$')\n",
    "ax[1].set_xlabel(r'pocet kroku $N$')\n",
    "ax[1].set_ylabel('chyba')\n",
    "#ax[1].set_xscale('log')\n",
    "#ax[1].set_yscale('log')\n",
    "ax[1].legend()\n"
   ]
  }
 ],
 "metadata": {
  "kernelspec": {
   "display_name": "Python 3 (ipykernel)",
   "language": "python",
   "name": "python3"
  },
  "language_info": {
   "codemirror_mode": {
    "name": "ipython",
    "version": 3
   },
   "file_extension": ".py",
   "mimetype": "text/x-python",
   "name": "python",
   "nbconvert_exporter": "python",
   "pygments_lexer": "ipython3",
   "version": "3.8.8"
  }
 },
 "nbformat": 4,
 "nbformat_minor": 5
}