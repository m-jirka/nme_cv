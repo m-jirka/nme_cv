{
 "cells": [
  {
   "cell_type": "markdown",
   "id": "c12e30ea",
   "metadata": {},
   "source": [
    "# Obyčejné diferenciální rovnice"
   ]
  },
  {
   "cell_type": "markdown",
   "id": "d6464ffc",
   "metadata": {},
   "source": [
    "Naimportujeme si knihovny potřebné pro následující příklady:"
   ]
  },
  {
   "cell_type": "code",
   "execution_count": 1,
   "id": "9479552b",
   "metadata": {},
   "outputs": [],
   "source": [
    "import numpy as np\n",
    "import matplotlib.pyplot as plt"
   ]
  },
  {
   "cell_type": "markdown",
   "id": "669beea0",
   "metadata": {},
   "source": [
    "- ODR $N$-tého řádu převádíme na soustavu $N$ diferenciálních rovnic 1. řádu\n",
    "- Potřebujeme  $N$ počátečních podmínek\n",
    "- Řešení se liší v závislosti na počátečních podmínkách:\n",
    "    1. **Počáteční problém**: všechny podmínky **jsou** zadány v jednom bodě\n",
    "    2. **Okrajový problém**: všechny podmínky **nejsou** zadány v jednom bodě\n",
    "    \n",
    "## Runge-Kuttovy metody pro řešení počátečního problému\n",
    "### Eulerova metoda\n",
    "- Z Taylorova rozvoje známe směrnici tečny\n",
    "- V každém bodě $x_{1},x_{2}\\dots x_{n}$ aproximujeme funkci její tečnou\n",
    "$$ y(x+h)\\approx y(x)+h\\dfrac{\\mathrm{d}y(x)}{\\mathrm{d}x}$$\n",
    "- Metodu lze zpřesnit zmenšením vzdálenosti $h=x_{k+1}-x_{k}$\n",
    "\n",
    "### Metoda středního bodu\n",
    "- Přesnější vyjádření směrnice tečny:\n",
    "    1. Provedeme poloviční krok $h/2$ pomocí Eulerovy metody\n",
    "    2. V tomto bodě vypočítáme směrnici tečny\n",
    "    3. Tuto směrnici použijeme k provedení celého kroku z bodu $x$ do $x+h$\n",
    "$$ y(x+h)\\approx y(x)+hf\\left[ x+\\dfrac{h}{2},y(x)+\\dfrac{h}{2}f\\left( x,y(x)\\right) \\right]   $$\n",
    "\n",
    "### Heunova metoda\n",
    "- Opět zpřesňujeme vyjádření směrnice tečny:\n",
    "    1. Směrnici tečny v bodě $x+h$ určíme pomocí Eulerovy metody\n",
    "    2. Uděláme průměr ze směrnic v bodech $x$ a $x+h$\n",
    "    3. Tuto směrnici použijeme k provedení celého kroku z bodu $x$ do $x+h$\n",
    "$$ y(x+h)\\approx y(x)+h\\lbrace f \\left( x,y(x) \\right) + f\\left[x+h,y(x)+hf(x,y(x))\\right]\\rbrace   $$\n",
    "\n",
    "### Runge-Kuttova metoda 4. řádu\n",
    "- Využívají postupné zpřesňování hodnot derivace v bodech mezi $x$ a $x+h$\n",
    "- [Odvození](file:///home/jirkama1/Downloads/teorie_RK.pdf)\n",
    "- Postup výpočtu:\n",
    "$$ k_{1}=f(x_{n},y_{n})$$\n",
    "$$ k_{2}=f(x_{n}+\\dfrac{h}{2},y_{n}\\dfrac{h}{2}k_{1})$$\n",
    "$$ k_{3}=f(x_{n}+\\dfrac{h}{2},y_{n}+\\dfrac{h}{2}k_{2})$$\n",
    "$$ k_{4}=f(x_{n}+h,y_{n}+hk_{3})$$\n",
    "$$ y_{n+1}\\approx y_{n}+\\dfrac{h}{6}\\left(k_{1}+2k_{2}+2k_{3}+k_{4} \\right)$$"
   ]
  },
  {
   "cell_type": "markdown",
   "id": "3573b8a3",
   "metadata": {},
   "source": [
    "<div class=\"alert alert-block alert-warning\"><b>Cvičení 10.01: </b>Vyřešete modelovou úlohu popisující časový vývoj počtu bakterií $\\dfrac{\\mathrm{d}N}{\\mathrm{d}t}=(1+\\cos t)N(t)$ výše zmíněnými metodami. Předpokládáme, že na počátku je jedna bakterie.</div>"
   ]
  },
  {
   "cell_type": "code",
   "execution_count": 2,
   "id": "c1c20b67",
   "metadata": {
    "scrolled": false
   },
   "outputs": [
    {
     "data": {
      "text/plain": [
       "Text(0.5, 0, '$t$')"
      ]
     },
     "execution_count": 2,
     "metadata": {},
     "output_type": "execute_result"
    },
    {
     "data": {
      "image/png": "[encoded data removed]",
      "text/plain": [
       "<Figure size 1080x324 with 1 Axes>"
      ]
     },
     "metadata": {
      "filenames": {
       "image/png": "/home/mjirka/Documents/git/nme_cv/_build/jupyter_execute/Cviceni10_5_1.png"
      },
      "needs_background": "light"
     },
     "output_type": "display_data"
    }
   ],
   "source": [
    "# kod\n",
    "\n",
    "# počáteční podmínky\n",
    "uH  = 1 # Heunova metoda\n",
    "uSB = 1 # Metoda stredniho bodu\n",
    "uE  = 1 # Eulerova metoda\n",
    "uRK = 1 # Runge-Kutta\n",
    "\n",
    "# konecny cas\n",
    "T = 5\n",
    "\n",
    "# casove kroky\n",
    "tA = np.linspace(0,T,num=500)\n",
    "\n",
    "# resime tuto rovnici f(x,y(x))=dy(x)/dx:\n",
    "def f(x,y):\n",
    "    return (1 + np.cos(x)) * y\n",
    "\n",
    "h = 0.1 # delka kroku\n",
    "exact = np.exp(tA + np.sin(tA)) # presne reseni\n",
    "\n",
    "\n",
    "#stiff\n",
    "#{\n",
    "#f=inline('-15.*y','x', 'y'); % definice funkce f, plati ze u'=f(t,u)\n",
    "#hranice mezi 0.13 a 0.14\n",
    "#h=0.14; % pouzijeme krok h\n",
    "# exact=exp(-15.*tA);\n",
    "#%}\n",
    "\n",
    "pocetKroku = 50 # celkovy pocet kroku\n",
    "fig, ax = plt.subplots(figsize=(15,4.5))\n",
    "ax.plot(tA,exact,linewidth=2) # zobrazime presne reseni\n",
    "\n",
    "\n",
    "for i in range(pocetKroku):\n",
    "    t = i / pocetKroku * T # spocteme cas odpovidajici kroku     \n",
    "\n",
    "    # Eulerova metoda\n",
    "    ax.plot(t,uE, marker=\"+\", color='C1')\n",
    "    # spocteme novou hodnotu promenne uE\n",
    "    uE = uE+h*f(t,uE)\n",
    "\n",
    "    # Metoda stredniho bodu\n",
    "    ax.plot(t,uSB, marker=\"s\", color='c')\n",
    "    # spocteme novou hodnotu promenne uSB\n",
    "    uSB = uSB+h*f(t+h/2,uSB+h/2*f(t,uSB))\n",
    "\n",
    "    # Heunova metoda\n",
    "    ax.plot(t,uH, marker=\"x\", color='k')\n",
    "    # spocteme novou hodnotu promenne uH\n",
    "    uH = uH+h/2*(f(t,uH)+f(t+h,uH+h*f(t,uH)))\n",
    "\n",
    "    # Runge-Kutta 4. rad\n",
    "    ax.plot(t,uRK, marker=\".\", color='r')\n",
    "    # spocteme novou hodnotu promenne uRK\n",
    "    k1 = f(t,uRK)\n",
    "    k2 = f(t+h/2,uRK+h/2*k1)\n",
    "    k3 = f(t+h/2,uRK+h/2*k2)\n",
    "    k4 = f(t+h,uRK+h*k3)\n",
    "    uRK = uRK + h/6*(k1+2*k2+2*k3+k4)\n",
    "    \n",
    "ax.set_ylabel(r'$\\dfrac{\\mathrm{d}N}{\\mathrm{d}t}$')\n",
    "ax.set_xlabel(r'$t$')\n",
    "#ax.set_xlim((4.5,5))"
   ]
  },
  {
   "cell_type": "code",
   "execution_count": 3,
   "id": "fc7f5de7",
   "metadata": {},
   "outputs": [
    {
     "ename": "NameError",
     "evalue": "name 'w' is not defined",
     "output_type": "error",
     "traceback": [
      "\u001b[0;31m---------------------------------------------------------------------------\u001b[0m",
      "\u001b[0;31mNameError\u001b[0m                                 Traceback (most recent call last)",
      "\u001b[0;32m<ipython-input-3-4c96d8424694>\u001b[0m in \u001b[0;36m<module>\u001b[0;34m\u001b[0m\n\u001b[1;32m     28\u001b[0m     \u001b[0mt\u001b[0m \u001b[0;34m=\u001b[0m \u001b[0mi\u001b[0m \u001b[0;34m/\u001b[0m \u001b[0mpocetKroku\u001b[0m \u001b[0;34m*\u001b[0m \u001b[0mT\u001b[0m \u001b[0;31m# spocteme cas odpovidajici kroku\u001b[0m\u001b[0;34m\u001b[0m\u001b[0;34m\u001b[0m\u001b[0m\n\u001b[1;32m     29\u001b[0m     \u001b[0max\u001b[0m\u001b[0;34m.\u001b[0m\u001b[0mscatter\u001b[0m\u001b[0;34m(\u001b[0m\u001b[0mu\u001b[0m\u001b[0;34m[\u001b[0m\u001b[0;36m0\u001b[0m\u001b[0;34m]\u001b[0m\u001b[0;34m,\u001b[0m \u001b[0mu\u001b[0m\u001b[0;34m[\u001b[0m\u001b[0;36m2\u001b[0m\u001b[0;34m]\u001b[0m\u001b[0;34m,\u001b[0m \u001b[0mmarker\u001b[0m\u001b[0;34m=\u001b[0m\u001b[0;34m\"x\"\u001b[0m\u001b[0;34m,\u001b[0m \u001b[0mcolor\u001b[0m\u001b[0;34m=\u001b[0m\u001b[0;34m'C1'\u001b[0m\u001b[0;34m)\u001b[0m\u001b[0;34m\u001b[0m\u001b[0;34m\u001b[0m\u001b[0m\n\u001b[0;32m---> 30\u001b[0;31m     \u001b[0mk1\u001b[0m \u001b[0;34m=\u001b[0m \u001b[0mf\u001b[0m\u001b[0;34m(\u001b[0m\u001b[0mu\u001b[0m\u001b[0;34m)\u001b[0m\u001b[0;34m\u001b[0m\u001b[0;34m\u001b[0m\u001b[0m\n\u001b[0m\u001b[1;32m     31\u001b[0m     \u001b[0mk2\u001b[0m \u001b[0;34m=\u001b[0m \u001b[0mf\u001b[0m\u001b[0;34m(\u001b[0m\u001b[0mu\u001b[0m\u001b[0;34m+\u001b[0m\u001b[0mh\u001b[0m\u001b[0;34m/\u001b[0m\u001b[0;36m2\u001b[0m\u001b[0;34m*\u001b[0m\u001b[0mk1\u001b[0m\u001b[0;34m)\u001b[0m\u001b[0;34m\u001b[0m\u001b[0;34m\u001b[0m\u001b[0m\n\u001b[1;32m     32\u001b[0m     \u001b[0mk3\u001b[0m \u001b[0;34m=\u001b[0m \u001b[0mf\u001b[0m\u001b[0;34m(\u001b[0m\u001b[0mu\u001b[0m\u001b[0;34m+\u001b[0m\u001b[0mh\u001b[0m\u001b[0;34m/\u001b[0m\u001b[0;36m2\u001b[0m\u001b[0;34m*\u001b[0m\u001b[0mk2\u001b[0m\u001b[0;34m)\u001b[0m\u001b[0;34m\u001b[0m\u001b[0;34m\u001b[0m\u001b[0m\n",
      "\u001b[0;32m<ipython-input-3-4c96d8424694>\u001b[0m in \u001b[0;36mf\u001b[0;34m(u)\u001b[0m\n\u001b[1;32m     14\u001b[0m \u001b[0;34m\u001b[0m\u001b[0m\n\u001b[1;32m     15\u001b[0m \u001b[0;32mdef\u001b[0m \u001b[0mf\u001b[0m\u001b[0;34m(\u001b[0m\u001b[0mu\u001b[0m\u001b[0;34m)\u001b[0m\u001b[0;34m:\u001b[0m\u001b[0;34m\u001b[0m\u001b[0;34m\u001b[0m\u001b[0m\n\u001b[0;32m---> 16\u001b[0;31m     \u001b[0mw\u001b[0m\u001b[0;34m[\u001b[0m\u001b[0;36m0\u001b[0m\u001b[0;34m]\u001b[0m \u001b[0;34m=\u001b[0m \u001b[0mu\u001b[0m\u001b[0;34m[\u001b[0m\u001b[0;36m1\u001b[0m\u001b[0;34m]\u001b[0m\u001b[0;34m\u001b[0m\u001b[0;34m\u001b[0m\u001b[0m\n\u001b[0m\u001b[1;32m     17\u001b[0m     \u001b[0mw\u001b[0m\u001b[0;34m[\u001b[0m\u001b[0;36m1\u001b[0m\u001b[0;34m]\u001b[0m \u001b[0;34m=\u001b[0m \u001b[0;34m-\u001b[0m\u001b[0mu\u001b[0m\u001b[0;34m[\u001b[0m\u001b[0;36m0\u001b[0m\u001b[0;34m]\u001b[0m\u001b[0;34m/\u001b[0m\u001b[0;34m(\u001b[0m\u001b[0mu\u001b[0m\u001b[0;34m[\u001b[0m\u001b[0;36m0\u001b[0m\u001b[0;34m]\u001b[0m\u001b[0;34m**\u001b[0m\u001b[0;36m2\u001b[0m\u001b[0;34m+\u001b[0m\u001b[0mu\u001b[0m\u001b[0;34m[\u001b[0m\u001b[0;36m2\u001b[0m\u001b[0;34m]\u001b[0m\u001b[0;34m**\u001b[0m\u001b[0;36m2\u001b[0m\u001b[0;34m)\u001b[0m\u001b[0;34m**\u001b[0m\u001b[0;34m(\u001b[0m\u001b[0;36m3\u001b[0m\u001b[0;34m/\u001b[0m\u001b[0;36m2\u001b[0m\u001b[0;34m)\u001b[0m\u001b[0;34m\u001b[0m\u001b[0;34m\u001b[0m\u001b[0m\n\u001b[1;32m     18\u001b[0m     \u001b[0mw\u001b[0m\u001b[0;34m[\u001b[0m\u001b[0;36m2\u001b[0m\u001b[0;34m]\u001b[0m \u001b[0;34m=\u001b[0m \u001b[0mu\u001b[0m\u001b[0;34m[\u001b[0m\u001b[0;36m3\u001b[0m\u001b[0;34m]\u001b[0m\u001b[0;34m\u001b[0m\u001b[0;34m\u001b[0m\u001b[0m\n",
      "\u001b[0;31mNameError\u001b[0m: name 'w' is not defined"
     ]
    },
    {
     "data": {
      "image/png": "[encoded data removed]",
      "text/plain": [
       "<Figure size 1080x324 with 1 Axes>"
      ]
     },
     "metadata": {
      "filenames": {
       "image/png": "/home/mjirka/Documents/git/nme_cv/_build/jupyter_execute/Cviceni10_6_1.png"
      },
      "needs_background": "light"
     },
     "output_type": "display_data"
    }
   ],
   "source": [
    "# kod\n",
    "\n",
    "# demonstrace metody Runge-Kuta ctvrteho radu pro reseni soustavy dvou rovnic druheho radu\n",
    "\n",
    "# problém dvou těles\n",
    "\n",
    "T = 20 # budeme integrovat 20 sekund\n",
    "h = 0.01 # pouzijeme krok h, vsimnete si ze je relativne veliky v porovnani s Eulerovou metodou\n",
    "\n",
    "# pocatecni podminky\n",
    "# array([x, dx/dt, y, dy/dt])\n",
    "u = np.array([1, -0.3, 0, 0.3])\n",
    "\n",
    "\n",
    "def f(u):\n",
    "    w[0] = u[1]\n",
    "    w[1] = -u[0]/(u[0]**2+u[2]**2)**(3/2)\n",
    "    w[2] = u[3]\n",
    "    w[3] = -u[2]/(u[0]**2+u[2]**2)**(3/2)\n",
    "    return w\n",
    "fig, ax = plt.subplots(figsize=(15,4.5))\n",
    "\n",
    "pocetKroku = T / h # celkovy pocet kroku\n",
    "\n",
    "for i in range(int(np.round(pocetKroku))):\n",
    "    r = (u[0]**2+u[2]**2)**(1/2)\n",
    "    h = 1e-1*r**2\n",
    "    t = i / pocetKroku * T # spocteme cas odpovidajici kroku\n",
    "    ax.scatter(u[0], u[2], marker=\"x\", color='C1')\n",
    "    k1 = f(u)    \n",
    "    k2 = f(u+h/2*k1)\n",
    "    k3 = f(u+h/2*k2)\n",
    "    k4 = f(u+h*k3)\n",
    "    u=u+h/6*(k1+2*k2+2*k3+k4)\n",
    "\n"
   ]
  },
  {
   "cell_type": "markdown",
   "id": "bd57fad7",
   "metadata": {},
   "source": [
    "<div class=\"alert alert-block alert-warning\"><b>Cvičení 09.01: </b>Pomocí obdélníkové, lichoběžníkové a Simpsonovy metody numericky vypočtěte <a href=\"https://www.wolframalpha.com/input?i=integrate+sin%28x%29+from+1+to+5\">integrál</a> $\\int_{1}^{5} \\sin(x)\\,dx$.</div>"
   ]
  }
 ],
 "metadata": {
  "kernelspec": {
   "display_name": "Python 3 (ipykernel)",
   "language": "python",
   "name": "python3"
  },
  "language_info": {
   "codemirror_mode": {
    "name": "ipython",
    "version": 3
   },
   "file_extension": ".py",
   "mimetype": "text/x-python",
   "name": "python",
   "nbconvert_exporter": "python",
   "pygments_lexer": "ipython3",
   "version": "3.8.8"
  }
 },
 "nbformat": 4,
 "nbformat_minor": 5
}