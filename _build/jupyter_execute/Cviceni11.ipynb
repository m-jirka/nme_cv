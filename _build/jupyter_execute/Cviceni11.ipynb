{
 "cells": [
  {
   "cell_type": "markdown",
   "id": "c12e30ea",
   "metadata": {},
   "source": [
    "# Obyčejné diferenciální rovnice II"
   ]
  },
  {
   "cell_type": "markdown",
   "id": "6618f05c",
   "metadata": {},
   "source": [
    "Naimportujeme si knihovny potřebné pro následující příklady:"
   ]
  },
  {
   "cell_type": "code",
   "execution_count": 1,
   "id": "630ba1aa",
   "metadata": {},
   "outputs": [],
   "source": [
    "import numpy as np\n",
    "import matplotlib.pyplot as plt\n",
    "from scipy.integrate import solve_ivp"
   ]
  },
  {
   "cell_type": "markdown",
   "id": "669beea0",
   "metadata": {},
   "source": [
    "- ODR $N$-tého řádu převádíme na soustavu $N$ diferenciálních rovnic 1. řádu\n",
    "- Potřebujeme  $N$ počátečních podmínek\n",
    "- Řešení se liší v závislosti na počátečních podmínkách:\n",
    "    1. **Počáteční problém**: všechny podmínky **jsou** zadány v jednom bodě (Cvičení 10)\n",
    "    2. **Okrajový problém**: všechny podmínky **nejsou** zadány v jednom bodě (Cvičení 11)\n",
    "    \n",
    "\n",
    "- **Příklad:**\n",
    " - Máme rovnici 2. řádu\n",
    "$\n",
    "y''(t)=-y(t)\n",
    "$\n",
    " - Potřebujeme dvě počáteční podmínky:\n",
    "    1. **Počáteční problém** (Cvičení 10)\n",
    "    - všechny podmínky **jsou** zadány v jednom bodě $t_{0}$\n",
    "    - $ y(t_{0})=y_{0} $ a $ y'(t_{0})=v_{0} $\n",
    "    2. **Okrajový problém** (Cvičení 11)\n",
    "    - všechny podmínky **nejsou** zadány v jednom bodě \n",
    "    - $ y(t_{0})=y_{0} $ a $ y(t_{1})=y_{1} $\n",
    "    \n",
    "    \n",
    "## Metody řešení okrajových úloh:\n",
    "1. Metoda střelby\n",
    "2. Metoda sítí (konečných diferencí)\n",
    "3. Variační metody\n",
    "\n",
    "### Metoda střelby\n",
    "- Úlohu převedeme na ekvivalentí úlohu počátečního problému (zvolíme si parametrickou počáteční podmínku v okrajovém bodě)\n",
    "- Počáteční problém umíme vyřešit postupem uvedeným na Cvičení 10\n",
    "- Zkontrolujeme, zda získané řešení splňuje okrajovou podmínku s dostatečnou přesností\n",
    "- Pokud ne, postup opakujeme pro jinou hodnotu paramteru\n",
    "- Pro zpřesňování parametru můžeme použít např. metodu půlení intervalu"
   ]
  },
  {
   "cell_type": "markdown",
   "id": "3573b8a3",
   "metadata": {},
   "source": [
    "<div class=\"alert alert-block alert-warning\"><b>Cvičení 11.01: </b>Jaká má být počáteční rychlost $v_{0}$ meteorologické raketové sondy (ve vakuu), aby po 5 s byla ve výšce 50 m? [<a href=\"https://pythonnumericalmethods.berkeley.edu/notebooks/Index.html\">1</a>]</div>"
   ]
  },
  {
   "cell_type": "markdown",
   "id": "93624ad2",
   "metadata": {},
   "source": [
    "- Řešíme úlohu $y''(t)=-g$, kde $g$ je gravitační konstanta (speciální případ [šikmého vrhu](https://en.wikipedia.org/wiki/Projectile_motion))\n",
    "- Okrajové podmínky jsou $y(t=0)=0$ a $y(t=5)=50$, tj. podmínky jsou zadány v dvou různých okrajových bodech $t=0$ a $t=5$\n",
    "- Postup:\n",
    "    1. Zvolíme $v_{0}$, čímž úlohu převedeme na počáteční problém, neboť $v_{0}=y'(t=0)$\n",
    "    2. Vypočítáme $y(t=5)$\n",
    "    3. Pokud jsme netrefili zadanou okrajovou podmínku $y(t=5)=50$, opakujeme výpočet pro jinou hodnotu $y'(t=0)$"
   ]
  },
  {
   "cell_type": "code",
   "execution_count": 2,
   "id": "fc2eb0ae",
   "metadata": {},
   "outputs": [
    {
     "data": {
      "text/plain": [
       "<matplotlib.legend.Legend at 0x7f75cfab76a0>"
      ]
     },
     "execution_count": 2,
     "metadata": {},
     "output_type": "execute_result"
    },
    {
     "data": {
      "image/png": "[encoded data removed]",
      "text/plain": [
       "<Figure size 720x360 with 1 Axes>"
      ]
     },
     "metadata": {
      "filenames": {
       "image/png": "/home/mjirka/Documents/git/nme_cv/_build/jupyter_execute/Cviceni11_6_1.png"
      },
      "needs_background": "light"
     },
     "output_type": "display_data"
    }
   ],
   "source": [
    "# vstupni matice pro reseni pocatecniho problemu - resime dve rovnice prvniho radu\n",
    "def F(t,s):\n",
    "    return np.dot(np.array([[0,1],[0,-9.81/s[1]]]),s)    \n",
    "\n",
    "# prvni pocatecni podminka y(t=0)=0\n",
    "y0 = 0\n",
    "\n",
    "# odhad pocatecni rychlosti rakety\n",
    "v0 = 10\n",
    "\n",
    "# cas\n",
    "t_rozsah = np.linspace(0, 5, 100)\n",
    "\n",
    "# reseni pocatecniho problemu pomoci integrovane funkce solve_ivp() pro pocatecni podminky y0 a v0\n",
    "# funkce vrati hodnoty promenne t a prislusna reseni: y = y[0], y'= y[1]\n",
    "reseni = solve_ivp(F, [0, 5], [y0, v0], method='RK45', t_eval = t_rozsah)\n",
    "\n",
    "fig, ax = plt.subplots(figsize=(10,5))\n",
    "ax.plot(reseni.t, reseni.y[0],label='reseni')\n",
    "ax.scatter(5, 50, marker='x',color='C1',label='cil')\n",
    "ax.set_xlabel('t [s]')\n",
    "ax.set_ylabel('y [m]')\n",
    "ax.set_xlim(0,6)\n",
    "ax.set_ylim(0,100)\n",
    "ax.legend()"
   ]
  },
  {
   "cell_type": "markdown",
   "id": "b09006ad",
   "metadata": {},
   "source": [
    "### Metoda sítí (konečných diferencí)\n",
    "- [Příklad](http://kfe.fjfi.cvut.cz/~vachal/edu/nme/cviceni/09_ODE/DOCS/priklad_tridiagonalni_matice.pdf)"
   ]
  }
 ],
 "metadata": {
  "kernelspec": {
   "display_name": "Python 3 (ipykernel)",
   "language": "python",
   "name": "python3"
  },
  "language_info": {
   "codemirror_mode": {
    "name": "ipython",
    "version": 3
   },
   "file_extension": ".py",
   "mimetype": "text/x-python",
   "name": "python",
   "nbconvert_exporter": "python",
   "pygments_lexer": "ipython3",
   "version": "3.8.8"
  }
 },
 "nbformat": 4,
 "nbformat_minor": 5
}