{
 "cells": [
  {
   "cell_type": "markdown",
   "id": "975186eb",
   "metadata": {},
   "source": [
    "# Numerické metody - cvičení\n",
    "## Letní semestr 2021/2022, KFE FJFI ČVUT v Praze\n",
    "***\n",
    " * [Infromace pro cvičení LS 2021/2022](https://m-jirka.github.io/nme_cv/)\n",
    "\n",
    "***\n",
    "Martin JIRKA, jirkama1@fjfi.cvut.cz\n"
   ]
  }
 ],
 "metadata": {
  "kernelspec": {
   "display_name": "Python 3",
   "language": "python",
   "name": "python3"
  },
  "language_info": {
   "codemirror_mode": {
    "name": "ipython",
    "version": 3
   },
   "file_extension": ".py",
   "mimetype": "text/x-python",
   "name": "python",
   "nbconvert_exporter": "python",
   "pygments_lexer": "ipython3",
   "version": "3.8.8"
  }
 },
 "nbformat": 4,
 "nbformat_minor": 5
}