{
 "cells": [
  {
   "cell_type": "markdown",
   "id": "d2ac9bd5",
   "metadata": {},
   "source": [
    "# Úkol 2"
   ]
  },
  {
   "cell_type": "markdown",
   "id": "ebd72918",
   "metadata": {},
   "source": [
    "1. Numerickou iterací odhadněte velikost kroku $h$, při kterém je relativní chyba dopředné diference pro funkci $f(x)=3x^2$ v bodě $x=1$ přibližně 5 \\%. **(0.6 b)**\n",
    "2. Pro kolikátý člen posloupnosti $y_{n}=\\dfrac{1}{n}-10y_{n-1}$, kde $y_{0}=\\ln(11)-\\ln(10)$ a $n\\in\\mathbb{N}_{0}$, začínají oscilovat znaménka? Posloupnost vykreslete. Pro osu `y` použijte logaritmické měřítko `ax.set_yscale('log')`. **(0.4 b)**"
   ]
  },
  {
   "cell_type": "code",
   "execution_count": 1,
   "id": "ed47fb44",
   "metadata": {},
   "outputs": [],
   "source": [
    "# kód"
   ]
  }
 ],
 "metadata": {
  "kernelspec": {
   "display_name": "Python 3",
   "language": "python",
   "name": "python3"
  },
  "language_info": {
   "codemirror_mode": {
    "name": "ipython",
    "version": 3
   },
   "file_extension": ".py",
   "mimetype": "text/x-python",
   "name": "python",
   "nbconvert_exporter": "python",
   "pygments_lexer": "ipython3",
   "version": "3.8.8"
  }
 },
 "nbformat": 4,
 "nbformat_minor": 5
}