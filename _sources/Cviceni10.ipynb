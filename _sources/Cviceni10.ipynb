{
 "cells": [
  {
   "cell_type": "markdown",
   "id": "c12e30ea",
   "metadata": {},
   "source": [
    "# Obyčejné diferenciální rovnice (ODR)"
   ]
  },
  {
   "cell_type": "markdown",
   "id": "d6464ffc",
   "metadata": {},
   "source": [
    "Naimportujeme si knihovny potřebné pro následující příklady:"
   ]
  },
  {
   "cell_type": "code",
   "execution_count": 1,
   "id": "9479552b",
   "metadata": {},
   "outputs": [],
   "source": [
    "import numpy as np\n",
    "import matplotlib.pyplot as plt"
   ]
  },
  {
   "cell_type": "markdown",
   "id": "669beea0",
   "metadata": {},
   "source": [
    "- Vektorové vyjádření systému rovnic\n",
    "$$ \\dfrac{\\mathrm{d}\\vec y}{\\mathrm{d}x}=\\vec f (x,\\vec y)$$\n",
    "\n",
    "- ODR $N$-tého řádu převádíme na soustavu $N$ diferenciálních rovnic 1. řádu\n",
    "- Potřebujeme  $N$ počátečních podmínek\n",
    "- Řešení se liší v závislosti na počátečních podmínkách:\n",
    "    1. **Počáteční problém**: všechny podmínky **jsou** zadány v jednom bodě\n",
    "    2. **Okrajový problém**: všechny podmínky **nejsou** zadány v jednom bodě\n",
    "    \n",
    "## Runge-Kuttovy metody pro řešení počátečního problému\n",
    "### Eulerova metoda\n",
    "- Z Taylorova rozvoje známe směrnici tečny\n",
    "- V každém bodě $x_{1},x_{2}\\dots x_{n}$ aproximujeme funkci její tečnou\n",
    "$$ y(x+h)\\approx y(x)+hf\\left( x,y(x)\\right)$$\n",
    "- Metodu lze zpřesnit zmenšením vzdálenosti $h=x_{k+1}-x_{k}$\n",
    "\n",
    "### Metoda středního bodu\n",
    "- Přesnější vyjádření směrnice tečny:\n",
    "    1. Provedeme poloviční krok $h/2$ pomocí Eulerovy metody\n",
    "    2. V tomto bodě vypočítáme směrnici tečny\n",
    "    3. Tuto směrnici použijeme k provedení celého kroku z bodu $x$ do $x+h$\n",
    "$$ y(x+h)\\approx y(x)+hf\\left[ x+\\dfrac{h}{2},y(x)+\\dfrac{h}{2}f\\left( x,y(x)\\right) \\right]   $$\n",
    "\n",
    "### Heunova metoda\n",
    "- Opět zpřesňujeme vyjádření směrnice tečny:\n",
    "    1. Směrnici tečny v bodě $x+h$ určíme pomocí Eulerovy metody\n",
    "    2. Uděláme průměr ze směrnic v bodech $x$ a $x+h$\n",
    "    3. Tuto směrnici použijeme k provedení celého kroku z bodu $x$ do $x+h$\n",
    "$$ y(x+h)\\approx y(x)+h\\lbrace f \\left( x,y(x) \\right) + f\\left[x+h,y(x)+hf(x,y(x))\\right]\\rbrace   $$\n",
    "\n",
    "### Runge-Kuttova metoda 4. řádu\n",
    "- Využívá postupné zpřesňování hodnot derivace v bodech mezi $x$ a $x+h$\n",
    "- [Odvození](http://kfe.fjfi.cvut.cz/~vachal/edu/nme/cviceni/09_ODE/DOCS/teorie_RK.pdf)\n",
    "- Postup výpočtu:\n",
    "$$ k_{1}=f(x_{n},y_{n})$$\n",
    "$$ k_{2}=f(x_{n}+\\dfrac{h}{2},y_{n}\\dfrac{h}{2}k_{1})$$\n",
    "$$ k_{3}=f(x_{n}+\\dfrac{h}{2},y_{n}+\\dfrac{h}{2}k_{2})$$\n",
    "$$ k_{4}=f(x_{n}+h,y_{n}+hk_{3})$$\n",
    "$$ y_{n+1}\\approx y_{n}+\\dfrac{h}{6}\\left(k_{1}+2k_{2}+2k_{3}+k_{4} \\right)$$\n",
    "\n",
    "- Pro Runge-Kuttovy metody obecně platí:\n",
    "    - Výhody: robustní metoda, funguje témeř vždy\n",
    "    - Nevýhody: na jeden krok je potřeba funkci několikrát vyčíslit, nehodí se pro řešení rovnic se silným tlumením (stiff rovnice)"
   ]
  },
  {
   "cell_type": "markdown",
   "id": "3573b8a3",
   "metadata": {},
   "source": [
    "<div class=\"alert alert-block alert-warning\"><b>Cvičení 10.01: </b>Vyřešete modelovou úlohu popisující časový vývoj počtu bakterií $\\dfrac{\\mathrm{d}N}{\\mathrm{d}t}=(1+\\cos t)N(t)$ výše zmíněnými metodami. Předpokládáme, že na počátku žije jen jedna bakterie.</div>"
   ]
  },
  {
   "cell_type": "code",
   "execution_count": 2,
   "id": "c1c20b67",
   "metadata": {
    "scrolled": false
   },
   "outputs": [
    {
     "data": {
      "text/plain": [
       "Text(0.5, 0, '$t$')"
      ]
     },
     "execution_count": 2,
     "metadata": {},
     "output_type": "execute_result"
    },
    {
     "data": {
      "image/png": "[encoded data removed]",
      "text/plain": [
       "<Figure size 1080x324 with 1 Axes>"
      ]
     },
     "metadata": {
      "needs_background": "light"
     },
     "output_type": "display_data"
    }
   ],
   "source": [
    "# kod\n",
    "\n",
    "# pocatecni podminky\n",
    "uH  = 1 # Heunova metoda\n",
    "uSB = 1 # Metoda stredniho bodu\n",
    "uE  = 1 # Eulerova metoda\n",
    "uRK = 1 # Runge-Kutta\n",
    "\n",
    "# konecny cas\n",
    "T = 5\n",
    "\n",
    "# casove kroky\n",
    "tA = np.linspace(0,T,num=500)\n",
    "\n",
    "## resime tuto rovnici f(x,y(x))=dy(x)/dx:\n",
    "def f(x,y):\n",
    "    return (1 + np.cos(x)) * y\n",
    "\n",
    "# presne reseni\n",
    "exact = np.exp(tA + np.sin(tA)) \n",
    "\n",
    "# delka kroku\n",
    "h = 0.1 \n",
    "##\n",
    "\n",
    "\n",
    "## stiff\n",
    "#def f(x,y):\n",
    "#    return -15*y\n",
    "#\n",
    "## presne reseni\n",
    "#exact = np.exp(-15*tA ) \n",
    "#\n",
    "#\n",
    "# delka kroku (0.1 - 0.2)\n",
    "#h=0.1\n",
    "##\n",
    "\n",
    "\n",
    "fig, ax = plt.subplots(figsize=(15,4.5))\n",
    "ax.plot(tA,exact,linewidth=2) # zobrazime presne reseni\n",
    "\n",
    "t = 0\n",
    "while t<T:\n",
    "    # Eulerova metoda\n",
    "    ax.plot(t,uE, marker=\"+\", color='C1')\n",
    "    # spocteme novou hodnotu promenne uE\n",
    "    uE = uE+h*f(t,uE)\n",
    "\n",
    "    # Metoda stredniho bodu\n",
    "    ax.plot(t,uSB, marker=\"s\", color='c')\n",
    "    # spocteme novou hodnotu promenne uSB\n",
    "    uSB = uSB+h*f(t+h/2,uSB+h/2*f(t,uSB))\n",
    "\n",
    "    # Heunova metoda\n",
    "    ax.plot(t,uH, marker=\"x\", color='k')\n",
    "    # spocteme novou hodnotu promenne uH\n",
    "    uH = uH+h/2*(f(t,uH)+f(t+h,uH+h*f(t,uH)))\n",
    "\n",
    "    # Runge-Kutta 4. rad\n",
    "    ax.plot(t,uRK, marker=\".\", color='r')\n",
    "    # spocteme novou hodnotu promenne uRK\n",
    "    k1 = f(t,uRK)\n",
    "    k2 = f(t+h/2,uRK+h/2*k1)\n",
    "    k3 = f(t+h/2,uRK+h/2*k2)\n",
    "    k4 = f(t+h,uRK+h*k3)\n",
    "    uRK = uRK + h/6*(k1+2*k2+2*k3+k4)\n",
    "    \n",
    "    t = t + h\n",
    "    \n",
    "ax.set_ylabel(r'$\\dfrac{\\mathrm{d}N}{\\mathrm{d}t}$')\n",
    "ax.set_xlabel(r'$t$')\n",
    "#ax.set_xlim((4.5,5))\n",
    "#ax.set_ylim((0,60))\n",
    "\n",
    "\n",
    "# stiff rovnice\n",
    "#ax.set_ylim((-1,1))"
   ]
  },
  {
   "cell_type": "markdown",
   "id": "f4c10eb7",
   "metadata": {},
   "source": [
    "## Stiff rovnice (rovnice se silným tlumením)\n",
    "- Takové rovnice, které v sobě obsahují útlum s charakteristickým časem $\\tau \\ll $ jiný charakteristický čas úlohy\n",
    "- Pro řešení je potřeba zvolit délku kroku $h \\leq \\tau$ "
   ]
  },
  {
   "cell_type": "markdown",
   "id": "b56e0174",
   "metadata": {},
   "source": [
    "## Řešení soustav diferenciálních rovnic\n",
    "- Zadnou úlohu převedeme na soustavu $N$ diferenciálních rovnic 1. řádu"
   ]
  },
  {
   "cell_type": "markdown",
   "id": "585a2da2",
   "metadata": {},
   "source": [
    "<div class=\"alert alert-block alert-warning\"><b>Cvičení 10.02: </b> Runge-Kuttovou metodou čtvrtého řádu vyřešte <a href=\"https://cs.wikipedia.org/wiki/Keplerova_%C3%BAloha\">Keplerovu úlohu</a> dle <a href=\"http://kfe.fjfi.cvut.cz/~vachal/edu/nme/cviceni/09_ODE/DOCS/priklad_ode_soustava.pdf\">tohoto</a> zadání.</div>"
   ]
  },
  {
   "cell_type": "code",
   "execution_count": 13,
   "id": "fc7f5de7",
   "metadata": {},
   "outputs": [
    {
     "data": {
      "text/plain": [
       "Text(17.200000000000017, 0.5, 'y')"
      ]
     },
     "execution_count": 13,
     "metadata": {},
     "output_type": "execute_result"
    }
   ],
   "source": [
    "# kod\n",
    "\n",
    "# metodou Runge-Kuta ctvrteho radu budeme resit soustavu dvou rovnic druheho radu (problem dvou teles)\n",
    "\n",
    "# konecny cas\n",
    "T = 20\n",
    "\n",
    "# pocatecni podminky\n",
    "# array([x, dx/dt, y, dy/dt])\n",
    "u = np.array([1, -0.3, 0, 0.3])\n",
    "\n",
    "\n",
    "def f(u):\n",
    "    w = np.zeros(4)\n",
    "    #DOPLNTE\n",
    "    #w[0] = \n",
    "    #w[1] = \n",
    "    #w[2] = \n",
    "    #w[3] = \n",
    "    #DOPLNTE    \n",
    "    return w\n",
    "\n",
    "fig, ax = plt.subplots(figsize=(15,4.5))\n",
    "\n",
    "t = 0\n",
    "while t<T:    \n",
    "    #r = (u[0]**2+u[2]**2)**(1/2)    \n",
    "    #h = 1e-1*r**2\n",
    "    h = 0.005 # delka kroku\n",
    "    t = t + h\n",
    "    ax.scatter(u[0], u[2], marker=\".\")\n",
    "    #DOPLNTE\n",
    "    #u = u + ...\n",
    "    #DOPLNTE\n",
    "    \n",
    "ax.set_xlabel('x')\n",
    "ax.set_ylabel('y')"
   ]
  },
  {
   "cell_type": "markdown",
   "id": "e8ceeafb",
   "metadata": {},
   "source": [
    "## Další metody řešení ODR\n",
    "- [Zde](http://kfe.fjfi.cvut.cz/~vachal/edu/nme/cviceni/09_ODE/DOCS/teorie_ode_dalsi_metody.pdf)"
   ]
  }
 ],
 "metadata": {
  "kernelspec": {
   "display_name": "Python 3 (ipykernel)",
   "language": "python",
   "name": "python3"
  },
  "language_info": {
   "codemirror_mode": {
    "name": "ipython",
    "version": 3
   },
   "file_extension": ".py",
   "mimetype": "text/x-python",
   "name": "python",
   "nbconvert_exporter": "python",
   "pygments_lexer": "ipython3",
   "version": "3.9.7"
  }
 },
 "nbformat": 4,
 "nbformat_minor": 5
}
