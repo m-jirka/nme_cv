{
 "cells": [
  {
   "cell_type": "markdown",
   "id": "d2ac9bd5",
   "metadata": {},
   "source": [
    "# Úkol 1"
   ]
  },
  {
   "cell_type": "markdown",
   "id": "ebd72918",
   "metadata": {},
   "source": [
    "1. Napište funkci počítající faktoriál $n!$ z čísla $n\\in \\mathbb{N}$ (bez použití knihovny `math`). **(0.3 b)**\n",
    "2. S vuyžitím této funkce napište další funkci počítající hodnotu Eulerova čísla $e=\\sum_{n=0}^N \\dfrac{1}{n!}$ pro $N\\in \\mathbb{N}$. Vypište výsledek pro $N=20$. **(0.3 b)**\n",
    "3. Vykreslete graf funkce $f(x)=1/x$ pro $x\\in \\langle 0,1;5\\rangle$ s počtem prvků 500 a popište osy. Sečtěte obsah plochy pod grafem mezi `x[92]` a `x[267]`(což přibližně odpovídá $x\\in \\langle 1;e\\rangle$). **(0.4 b)**"
   ]
  },
  {
   "cell_type": "code",
   "execution_count": 38,
   "id": "6f6a648c",
   "metadata": {},
   "outputs": [],
   "source": [
    "# sem vlozte vas kod"
   ]
  },
  {
   "cell_type": "code",
   "execution_count": 40,
   "id": "638ed441",
   "metadata": {},
   "outputs": [
    {
     "name": "stdout",
     "output_type": "stream",
     "text": [
      "2.7182818284590455\n",
      "2.718281828459045\n"
     ]
    }
   ],
   "source": [
    "import numpy as np\n",
    "\n",
    "\n",
    "def f(n):\n",
    "    faktorial = 1\n",
    "    for i in range(1,n + 1,1):\n",
    "        faktorial = faktorial*i\n",
    "    return faktorial\n",
    "\n",
    "def e(n):\n",
    "    soucet = 0\n",
    "    for i in range(n):\n",
    "        soucet = soucet + 1/f(i)      \n",
    "    return soucet\n",
    "\n",
    "print(e(20))\n",
    "print(np.e)"
   ]
  },
  {
   "cell_type": "code",
   "execution_count": 55,
   "id": "958e63cd",
   "metadata": {},
   "outputs": [
    {
     "data": {
      "text/plain": [
       "[<matplotlib.lines.Line2D at 0x7f4d1cd1b250>]"
      ]
     },
     "execution_count": 55,
     "metadata": {},
     "output_type": "execute_result"
    },
    {
     "data": {
      "image/png": "[encoded data removed]",
      "text/plain": [
       "<Figure size 432x288 with 1 Axes>"
      ]
     },
     "metadata": {
      "needs_background": "light"
     },
     "output_type": "display_data"
    }
   ],
   "source": [
    "import matplotlib.pyplot as plt\n",
    "x = np.linspace(1e-1,5,500)\n",
    "y = 1/x\n",
    "fig, ax = plt.subplots()\n",
    "ax.plot(x,y)"
   ]
  },
  {
   "cell_type": "code",
   "execution_count": 97,
   "id": "de428cd8",
   "metadata": {},
   "outputs": [
    {
     "data": {
      "text/plain": [
       "101.93904406795778"
      ]
     },
     "execution_count": 97,
     "metadata": {},
     "output_type": "execute_result"
    }
   ],
   "source": [
    "np.sum(y[92:267])"
   ]
  }
 ],
 "metadata": {
  "kernelspec": {
   "display_name": "Python 3 (ipykernel)",
   "language": "python",
   "name": "python3"
  },
  "language_info": {
   "codemirror_mode": {
    "name": "ipython",
    "version": 3
   },
   "file_extension": ".py",
   "mimetype": "text/x-python",
   "name": "python",
   "nbconvert_exporter": "python",
   "pygments_lexer": "ipython3",
   "version": "3.8.11"
  }
 },
 "nbformat": 4,
 "nbformat_minor": 5
}
