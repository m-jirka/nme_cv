{
 "cells": [
  {
   "cell_type": "markdown",
   "id": "975186eb",
   "metadata": {},
   "source": [
    "# Numerické metody - cvičení\n",
    "## Letní semestr 2021/2022, KFE FJFI ČVUT v Praze\n",
    "\n",
    "### Podmínky pro udělění zápočtu, zadání úloh pro zápočet a zápočtová tabulka\n",
    " * [Zde](http://kfe.fjfi.cvut.cz/~jirkama1)\n",
    "\n",
    "### Používané nástroje\n",
    "Na cvičeních budeme používat Python v on-line prostředí [Jupyter notebook](https://jupyter.org/). Jupyter notebook lze vytvářet a editovat on-line např. v [Google Colab](https://colab.research.google.com/). Pro vypracování úkolů a off-line práci s Jupyter notebooky na počítači je nejjednodušší nainstalovat si programový balík [Anaconda](https://www.anaconda.com/) (dostupné pro Windows/Mac/Linux), který obsahuje všechny potřebné knihovny (a navíc Python editor [spyder](https://www.spyder-ide.org/) a mnoho dalšího):\n",
    "1. [Návod na instalaci](https://docs.anaconda.com/anaconda/install/)\n",
    "2. [Návod na spuštení Jupyter notebook](https://docs.anaconda.com/anaconda/user-guide/getting-started/)\n",
    "\n",
    "**S případnými dotazy na instalaci a spuštění Jupyter Notebooku mě kontaktujte na mailu.**\n",
    "\n",
    "Materiály ke cvičením vycházejí z těchto [podkladů](http://kfe.fjfi.cvut.cz/~vachal/edu/nme/cviceni/index.html)."
   ]
  }
 ],
 "metadata": {
  "kernelspec": {
   "display_name": "Python 3 (ipykernel)",
   "language": "python",
   "name": "python3"
  },
  "language_info": {
   "codemirror_mode": {
    "name": "ipython",
    "version": 3
   },
   "file_extension": ".py",
   "mimetype": "text/x-python",
   "name": "python",
   "nbconvert_exporter": "python",
   "pygments_lexer": "ipython3",
   "version": "3.9.7"
  }
 },
 "nbformat": 4,
 "nbformat_minor": 5
}
