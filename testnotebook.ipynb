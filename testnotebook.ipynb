{
 "cells": [
  {
   "cell_type": "markdown",
   "id": "d9978e48",
   "metadata": {},
   "source": [
    "# Cvičení Numerické metody"
   ]
  },
  {
   "cell_type": "markdown",
   "id": "03af03ff",
   "metadata": {},
   "source": [
    "***\n",
    "## Letní semestr 2021/2022"
   ]
  },
  {
   "cell_type": "markdown",
   "id": "975186eb",
   "metadata": {},
   "source": [
    "### Rozvrh\n",
    "* Den,\n",
    "* Martin JIRKA, jirkama1@fjfi.cvut.cz\n",
    "\n",
    "### Podmínky pro udělění zápočtu\n",
    "* maximálně 3 absence\n",
    "* vypracování zápočtové úlohy a její obhájení"
   ]
  },
  {
   "cell_type": "markdown",
   "id": "6b70a145",
   "metadata": {},
   "source": [
    "***\n",
    "Na cvičeních budeme používat *python* v prostředí *Jupyter notebook*. Nejjednodušší je používat prostředí [Anaconda](https://www.anaconda.com/) (dostupné pro Windows/Mac/Linux). Pro práci v Jupyter notebooku lze použít:\n",
    "* platformu [Anaconda](https://www.anaconda.com/)\n",
    "* online [MyBinder](https://mybinder.org/)"
   ]
  },
  {
   "cell_type": "markdown",
   "id": "d0e178fa",
   "metadata": {},
   "source": [
    "<div class=\"alert alert-block alert-info\"><b>Tip: </b> Use blue boxes for Tips and notes. If it's a note, you don't have to include the word \"Note\". </div> <div class=\"alert alert-block alert-warning\"><b>Example: </b> Use yellow boxes for examples that are not inside code cells, or use for mathematical formulas if needed. </div><div class=\"alert alert-block alert-success\"><b>Up to you: </b>Use green boxes sparingly, and only for some specific purpose that the other boxes can't cover. For example, if you have a lot of related content to link to, maybe you decide to use green boxes for related links from each section of a notebook. </div><div class=\"alert alert-block alert-danger\"><b>Just don't: </b>In general, just avoid the red boxes. </div\n",
    "    \n",
    "    \n"
   ]
  },
  {
   "cell_type": "code",
   "execution_count": null,
   "id": "fd430961",
   "metadata": {},
   "outputs": [],
   "source": []
  }
 ],
 "metadata": {
  "kernelspec": {
   "display_name": "Python 3 (ipykernel)",
   "language": "python",
   "name": "python3"
  },
  "language_info": {
   "codemirror_mode": {
    "name": "ipython",
    "version": 3
   },
   "file_extension": ".py",
   "mimetype": "text/x-python",
   "name": "python",
   "nbconvert_exporter": "python",
   "pygments_lexer": "ipython3",
   "version": "3.8.11"
  }
 },
 "nbformat": 4,
 "nbformat_minor": 5
}
