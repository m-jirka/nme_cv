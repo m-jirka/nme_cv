{
 "cells": [
  {
   "cell_type": "markdown",
   "id": "d9978e48",
   "metadata": {},
   "source": [
    "# Cvičení Numerické metody"
   ]
  },
  {
   "cell_type": "markdown",
   "id": "03af03ff",
   "metadata": {},
   "source": [
    "***\n",
    "## Letní semestr 2021/2022"
   ]
  },
  {
   "cell_type": "markdown",
   "id": "975186eb",
   "metadata": {},
   "source": [
    "### Rozvrh\n",
    "* Den,\n",
    "* Martin JIRKA, jirkama1@fjfi.cvut.cz\n",
    "\n",
    "### Podmínky pro udělění zápočtu\n",
    "* maximálně 2 absence\n",
    "* vypracování zápočtové úlohy a její obhájení"
   ]
  },
  {
   "cell_type": "markdown",
   "id": "6b70a145",
   "metadata": {},
   "source": [
    "***\n",
    "Na cvičeních budeme používat *python* v prostředí *Jupyter notebook*. Nejjednodušší je používat prostředí [Anaconda](https://www.anaconda.com/) (dostupné pro Windows/Mac/Linux). Pro práci v Jupyter notebooku lze použít:\n",
    "* platformu [Anaconda](https://www.anaconda.com/)\n",
    "* online [MyBinder](https://mybinder.org/)"
   ]
  },
  {
   "cell_type": "markdown",
   "id": "d0e178fa",
   "metadata": {},
   "source": [
    "<div class=\"alert alert-block alert-info\"><b>Tip: </b> Use blue boxes for Tips and notes. If it's a note, you don't have to include the word \"Note\". </div> <div class=\"alert alert-block alert-warning\"><b>Example: </b> Use yellow boxes for examples that are not inside code cells, or use for mathematical formulas if needed. </div><div class=\"alert alert-block alert-success\"><b>Up to you: </b>Use green boxes sparingly, and only for some specific purpose that the other boxes can't cover. For example, if you have a lot of related content to link to, maybe you decide to use green boxes for related links from each section of a notebook. </div><div class=\"alert alert-block alert-danger\"><b>Just don't: </b>In general, just avoid the red boxes. </div\n",
    "    \n",
    "    \n"
   ]
  },
  {
   "cell_type": "markdown",
   "id": "da9593e8",
   "metadata": {},
   "source": [
    "Jednoradkovy komentar se zadava za znak `#`, vice radku lze zakomentovat pomoci `\"\"\"` a `\"\"\"`"
   ]
  },
  {
   "cell_type": "code",
   "execution_count": 48,
   "id": "3c111cdf",
   "metadata": {},
   "outputs": [
    {
     "data": {
      "text/plain": [
       "'V Pythonu nejsou žádné víceřádkové komentáře, které by\\nodpovídaly /* */ z C++ či Javy, nicméně často se místo nich\\npoužívají víceřádkové řetězce, které se jen nepřiřadí do\\nžádné proměnné a dále nepoužijí. Obvyklé je to zejména u\\ntzv. docstringů (viz dále).'"
      ]
     },
     "execution_count": 48,
     "metadata": {},
     "output_type": "execute_result"
    }
   ],
   "source": [
    "# toto je komentar\n",
    "\n",
    "\"\"\"V Pythonu nejsou žádné víceřádkové komentáře, které by\n",
    "odpovídaly /* */ z C++ či Javy, nicméně často se místo nich\n",
    "používají víceřádkové řetězce, které se jen nepřiřadí do\n",
    "žádné proměnné a dále nepoužijí. Obvyklé je to zejména u\n",
    "tzv. docstringů (viz dále).\"\"\"\n",
    "\n"
   ]
  },
  {
   "cell_type": "markdown",
   "id": "af3c3908",
   "metadata": {},
   "source": [
    "### Jednoduche pocitani s promennymi"
   ]
  },
  {
   "cell_type": "markdown",
   "id": "0f57beed",
   "metadata": {},
   "source": [
    "Inicializace promennych `a`, `b` a zakladni aritmeticke operace a vypis vysledku:"
   ]
  },
  {
   "cell_type": "code",
   "execution_count": 49,
   "id": "fd430961",
   "metadata": {
    "scrolled": false
   },
   "outputs": [
    {
     "name": "stdout",
     "output_type": "stream",
     "text": [
      "Soucet  48.5\n",
      "Rozdil  37.5\n",
      "Soucin  236.5\n",
      "Podil  7.818181818181818\n",
      "Mocnina  963998827.5258548\n"
     ]
    }
   ],
   "source": [
    "a=43\n",
    "b=5.5\n",
    "\n",
    "soucet=a+b\n",
    "rozdil=a-b\n",
    "soucin=a*b\n",
    "podil=a/b\n",
    "mocnina=a**b\n",
    "\n",
    "# vypis\n",
    "print('Soucet ',soucet)\n",
    "print('Rozdil ',rozdil)\n",
    "print('Soucin ',soucin)\n",
    "print('Podil ',podil)\n",
    "print('Mocnina ',mocnina)\n",
    "\n"
   ]
  },
  {
   "cell_type": "markdown",
   "id": "d7072c21",
   "metadata": {},
   "source": [
    "<div class=\"alert alert-block alert-warning\"><b>Cviceni 01.01: </b> Vypoctete objem jehlanu o stranach 3 a 4 majiciho vysku 7. </div>"
   ]
  },
  {
   "cell_type": "code",
   "execution_count": 50,
   "id": "f8e7c0b1",
   "metadata": {},
   "outputs": [
    {
     "name": "stdout",
     "output_type": "stream",
     "text": [
      "28.0\n"
     ]
    }
   ],
   "source": [
    "a=3\n",
    "b=4\n",
    "v=7\n",
    "S=a*b\n",
    "V=1/3*S*v\n",
    "print(V)"
   ]
  },
  {
   "cell_type": "markdown",
   "id": "bb29dc0d",
   "metadata": {},
   "source": [
    "<div class=\"alert alert-block alert-danger\"><b>Pozor:</b> v seznamu <code>list</code> ma prvni prvek index <b>0</b>!</div>"
   ]
  },
  {
   "cell_type": "markdown",
   "id": "6637de93",
   "metadata": {},
   "source": [
    "List a range"
   ]
  },
  {
   "cell_type": "markdown",
   "id": "c1575496",
   "metadata": {},
   "source": [
    "***"
   ]
  },
  {
   "cell_type": "markdown",
   "id": "6838de97",
   "metadata": {},
   "source": [
    "### Podminkove cykly"
   ]
  },
  {
   "cell_type": "markdown",
   "id": "14d141a1",
   "metadata": {},
   "source": [
    "Za klicovymi slovy `if` a `else` musime psat `:`. Vnitrek podminky je **nutne** odsadit, obvykle se pouzivaji **ctyri mezery**."
   ]
  },
  {
   "cell_type": "code",
   "execution_count": 36,
   "id": "0fb89fd4",
   "metadata": {},
   "outputs": [
    {
     "name": "stdout",
     "output_type": "stream",
     "text": [
      "musi to byt nula\n",
      "Tento text se vypise vzdy.\n"
     ]
    }
   ],
   "source": [
    "cislo = 0\n",
    "if cislo > 0:\n",
    "    print(cislo, \"je kladne.\")\n",
    "elif cislo <0:\n",
    "    print(cislo, \"je zaporne\")\n",
    "else:\n",
    "    print(\"musi to byt nula\")    \n",
    "print(\"Tento text se vypise vzdy.\")"
   ]
  },
  {
   "cell_type": "markdown",
   "id": "8c21a903",
   "metadata": {},
   "source": [
    "`For` cyklus"
   ]
  },
  {
   "cell_type": "code",
   "execution_count": 38,
   "id": "579b2696",
   "metadata": {},
   "outputs": [
    {
     "name": "stdout",
     "output_type": "stream",
     "text": [
      "0\n",
      "1\n",
      "2\n",
      "3\n",
      "4\n",
      "5\n",
      "6\n",
      "7\n",
      "8\n",
      "9\n"
     ]
    }
   ],
   "source": [
    "for x in range(10):\n",
    "    print(x)"
   ]
  },
  {
   "cell_type": "markdown",
   "id": "da5a3417",
   "metadata": {},
   "source": [
    "`While` cyklus"
   ]
  },
  {
   "cell_type": "code",
   "execution_count": 46,
   "id": "73794ecf",
   "metadata": {},
   "outputs": [
    {
     "name": "stdout",
     "output_type": "stream",
     "text": [
      "0\n",
      "1\n",
      "2\n",
      "3\n",
      "4\n",
      "5\n",
      "6\n",
      "7\n",
      "8\n",
      "9\n"
     ]
    }
   ],
   "source": [
    "cislo = 0\n",
    "while cislo < 10:\n",
    "  print(cislo)\n",
    "  cislo = cislo+1 # ekvivalenti zapis je take: cislo += 1"
   ]
  },
  {
   "cell_type": "markdown",
   "id": "f01a45e2",
   "metadata": {},
   "source": [
    "break continue"
   ]
  },
  {
   "cell_type": "code",
   "execution_count": null,
   "id": "b0f55c94",
   "metadata": {},
   "outputs": [],
   "source": []
  }
 ],
 "metadata": {
  "kernelspec": {
   "display_name": "Python 3",
   "language": "python",
   "name": "python3"
  },
  "language_info": {
   "codemirror_mode": {
    "name": "ipython",
    "version": 3
   },
   "file_extension": ".py",
   "mimetype": "text/x-python",
   "name": "python",
   "nbconvert_exporter": "python",
   "pygments_lexer": "ipython3",
   "version": "3.8.8"
  }
 },
 "nbformat": 4,
 "nbformat_minor": 5
}
